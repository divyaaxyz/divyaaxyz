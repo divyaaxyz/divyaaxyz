{
  "nbformat": 4,
  "nbformat_minor": 0,
  "metadata": {
    "colab": {
      "provenance": [],
      "include_colab_link": true
    },
    "kernelspec": {
      "name": "python3",
      "display_name": "Python 3"
    },
    "language_info": {
      "name": "python"
    }
  },
  "cells": [
    {
      "cell_type": "markdown",
      "metadata": {
        "id": "view-in-github",
        "colab_type": "text"
      },
      "source": [
        "<a href=\"https://colab.research.google.com/github/divyaaxyz/divyaaxyz/blob/main/LeanInProject_EmployeeAttrition.ipynb\" target=\"_parent\"><img src=\"https://colab.research.google.com/assets/colab-badge.svg\" alt=\"Open In Colab\"/></a>"
      ]
    },
    {
      "cell_type": "code",
      "execution_count": 1,
      "metadata": {
        "id": "iJ--h6inl3lY"
      },
      "outputs": [],
      "source": [
        "from google.colab import drive"
      ]
    },
    {
      "cell_type": "code",
      "source": [
        "drive.mount('/content/drive')"
      ],
      "metadata": {
        "colab": {
          "base_uri": "https://localhost:8080/"
        },
        "id": "GiQZgR-kl-So",
        "outputId": "28656a3a-5f59-409d-8a9e-ba2363f27485"
      },
      "execution_count": null,
      "outputs": [
        {
          "output_type": "stream",
          "name": "stdout",
          "text": [
            "Drive already mounted at /content/drive; to attempt to forcibly remount, call drive.mount(\"/content/drive\", force_remount=True).\n"
          ]
        }
      ]
    },
    {
      "cell_type": "markdown",
      "source": [
        "## Importing Packages"
      ],
      "metadata": {
        "id": "VbOhdRD1GA2Q"
      }
    },
    {
      "cell_type": "code",
      "source": [
        "import pandas as pd\n",
        "import numpy as np\n",
        "import seaborn as sns\n",
        "import matplotlib.pyplot as plt"
      ],
      "metadata": {
        "id": "H6i_THEGnakZ"
      },
      "execution_count": null,
      "outputs": []
    },
    {
      "cell_type": "markdown",
      "source": [
        "## Reading the Employee Attrition Dataset"
      ],
      "metadata": {
        "id": "B6OJng4rGMIb"
      }
    },
    {
      "cell_type": "code",
      "source": [
        "data = pd.read_csv('/content/drive/MyDrive/HR-Employee-Attrition.csv')"
      ],
      "metadata": {
        "id": "aJjmI-oOoa6M"
      },
      "execution_count": null,
      "outputs": []
    },
    {
      "cell_type": "code",
      "source": [
        "data.head()"
      ],
      "metadata": {
        "colab": {
          "base_uri": "https://localhost:8080/",
          "height": 369
        },
        "id": "DKJPs_X75ra1",
        "outputId": "85a2e42e-e1e7-4c90-96d0-fd0e6bbd79e9"
      },
      "execution_count": null,
      "outputs": [
        {
          "output_type": "execute_result",
          "data": {
            "text/plain": [
              "   Age Attrition     BusinessTravel  DailyRate              Department  \\\n",
              "0   41       Yes      Travel_Rarely       1102                   Sales   \n",
              "1   49        No  Travel_Frequently        279  Research & Development   \n",
              "2   37       Yes      Travel_Rarely       1373  Research & Development   \n",
              "3   33        No  Travel_Frequently       1392  Research & Development   \n",
              "4   27        No      Travel_Rarely        591  Research & Development   \n",
              "\n",
              "   DistanceFromHome  Education EducationField  EmployeeCount  EmployeeNumber  \\\n",
              "0                 1          2  Life Sciences              1               1   \n",
              "1                 8          1  Life Sciences              1               2   \n",
              "2                 2          2          Other              1               4   \n",
              "3                 3          4  Life Sciences              1               5   \n",
              "4                 2          1        Medical              1               7   \n",
              "\n",
              "   ...  RelationshipSatisfaction StandardHours  StockOptionLevel  \\\n",
              "0  ...                         1            80                 0   \n",
              "1  ...                         4            80                 1   \n",
              "2  ...                         2            80                 0   \n",
              "3  ...                         3            80                 0   \n",
              "4  ...                         4            80                 1   \n",
              "\n",
              "   TotalWorkingYears  TrainingTimesLastYear WorkLifeBalance  YearsAtCompany  \\\n",
              "0                  8                      0               1               6   \n",
              "1                 10                      3               3              10   \n",
              "2                  7                      3               3               0   \n",
              "3                  8                      3               3               8   \n",
              "4                  6                      3               3               2   \n",
              "\n",
              "  YearsInCurrentRole  YearsSinceLastPromotion  YearsWithCurrManager  \n",
              "0                  4                        0                     5  \n",
              "1                  7                        1                     7  \n",
              "2                  0                        0                     0  \n",
              "3                  7                        3                     0  \n",
              "4                  2                        2                     2  \n",
              "\n",
              "[5 rows x 35 columns]"
            ],
            "text/html": [
              "\n",
              "  <div id=\"df-ac4f0230-a9b6-4d7b-86ff-df7cd0e7d877\">\n",
              "    <div class=\"colab-df-container\">\n",
              "      <div>\n",
              "<style scoped>\n",
              "    .dataframe tbody tr th:only-of-type {\n",
              "        vertical-align: middle;\n",
              "    }\n",
              "\n",
              "    .dataframe tbody tr th {\n",
              "        vertical-align: top;\n",
              "    }\n",
              "\n",
              "    .dataframe thead th {\n",
              "        text-align: right;\n",
              "    }\n",
              "</style>\n",
              "<table border=\"1\" class=\"dataframe\">\n",
              "  <thead>\n",
              "    <tr style=\"text-align: right;\">\n",
              "      <th></th>\n",
              "      <th>Age</th>\n",
              "      <th>Attrition</th>\n",
              "      <th>BusinessTravel</th>\n",
              "      <th>DailyRate</th>\n",
              "      <th>Department</th>\n",
              "      <th>DistanceFromHome</th>\n",
              "      <th>Education</th>\n",
              "      <th>EducationField</th>\n",
              "      <th>EmployeeCount</th>\n",
              "      <th>EmployeeNumber</th>\n",
              "      <th>...</th>\n",
              "      <th>RelationshipSatisfaction</th>\n",
              "      <th>StandardHours</th>\n",
              "      <th>StockOptionLevel</th>\n",
              "      <th>TotalWorkingYears</th>\n",
              "      <th>TrainingTimesLastYear</th>\n",
              "      <th>WorkLifeBalance</th>\n",
              "      <th>YearsAtCompany</th>\n",
              "      <th>YearsInCurrentRole</th>\n",
              "      <th>YearsSinceLastPromotion</th>\n",
              "      <th>YearsWithCurrManager</th>\n",
              "    </tr>\n",
              "  </thead>\n",
              "  <tbody>\n",
              "    <tr>\n",
              "      <th>0</th>\n",
              "      <td>41</td>\n",
              "      <td>Yes</td>\n",
              "      <td>Travel_Rarely</td>\n",
              "      <td>1102</td>\n",
              "      <td>Sales</td>\n",
              "      <td>1</td>\n",
              "      <td>2</td>\n",
              "      <td>Life Sciences</td>\n",
              "      <td>1</td>\n",
              "      <td>1</td>\n",
              "      <td>...</td>\n",
              "      <td>1</td>\n",
              "      <td>80</td>\n",
              "      <td>0</td>\n",
              "      <td>8</td>\n",
              "      <td>0</td>\n",
              "      <td>1</td>\n",
              "      <td>6</td>\n",
              "      <td>4</td>\n",
              "      <td>0</td>\n",
              "      <td>5</td>\n",
              "    </tr>\n",
              "    <tr>\n",
              "      <th>1</th>\n",
              "      <td>49</td>\n",
              "      <td>No</td>\n",
              "      <td>Travel_Frequently</td>\n",
              "      <td>279</td>\n",
              "      <td>Research &amp; Development</td>\n",
              "      <td>8</td>\n",
              "      <td>1</td>\n",
              "      <td>Life Sciences</td>\n",
              "      <td>1</td>\n",
              "      <td>2</td>\n",
              "      <td>...</td>\n",
              "      <td>4</td>\n",
              "      <td>80</td>\n",
              "      <td>1</td>\n",
              "      <td>10</td>\n",
              "      <td>3</td>\n",
              "      <td>3</td>\n",
              "      <td>10</td>\n",
              "      <td>7</td>\n",
              "      <td>1</td>\n",
              "      <td>7</td>\n",
              "    </tr>\n",
              "    <tr>\n",
              "      <th>2</th>\n",
              "      <td>37</td>\n",
              "      <td>Yes</td>\n",
              "      <td>Travel_Rarely</td>\n",
              "      <td>1373</td>\n",
              "      <td>Research &amp; Development</td>\n",
              "      <td>2</td>\n",
              "      <td>2</td>\n",
              "      <td>Other</td>\n",
              "      <td>1</td>\n",
              "      <td>4</td>\n",
              "      <td>...</td>\n",
              "      <td>2</td>\n",
              "      <td>80</td>\n",
              "      <td>0</td>\n",
              "      <td>7</td>\n",
              "      <td>3</td>\n",
              "      <td>3</td>\n",
              "      <td>0</td>\n",
              "      <td>0</td>\n",
              "      <td>0</td>\n",
              "      <td>0</td>\n",
              "    </tr>\n",
              "    <tr>\n",
              "      <th>3</th>\n",
              "      <td>33</td>\n",
              "      <td>No</td>\n",
              "      <td>Travel_Frequently</td>\n",
              "      <td>1392</td>\n",
              "      <td>Research &amp; Development</td>\n",
              "      <td>3</td>\n",
              "      <td>4</td>\n",
              "      <td>Life Sciences</td>\n",
              "      <td>1</td>\n",
              "      <td>5</td>\n",
              "      <td>...</td>\n",
              "      <td>3</td>\n",
              "      <td>80</td>\n",
              "      <td>0</td>\n",
              "      <td>8</td>\n",
              "      <td>3</td>\n",
              "      <td>3</td>\n",
              "      <td>8</td>\n",
              "      <td>7</td>\n",
              "      <td>3</td>\n",
              "      <td>0</td>\n",
              "    </tr>\n",
              "    <tr>\n",
              "      <th>4</th>\n",
              "      <td>27</td>\n",
              "      <td>No</td>\n",
              "      <td>Travel_Rarely</td>\n",
              "      <td>591</td>\n",
              "      <td>Research &amp; Development</td>\n",
              "      <td>2</td>\n",
              "      <td>1</td>\n",
              "      <td>Medical</td>\n",
              "      <td>1</td>\n",
              "      <td>7</td>\n",
              "      <td>...</td>\n",
              "      <td>4</td>\n",
              "      <td>80</td>\n",
              "      <td>1</td>\n",
              "      <td>6</td>\n",
              "      <td>3</td>\n",
              "      <td>3</td>\n",
              "      <td>2</td>\n",
              "      <td>2</td>\n",
              "      <td>2</td>\n",
              "      <td>2</td>\n",
              "    </tr>\n",
              "  </tbody>\n",
              "</table>\n",
              "<p>5 rows × 35 columns</p>\n",
              "</div>\n",
              "      <button class=\"colab-df-convert\" onclick=\"convertToInteractive('df-ac4f0230-a9b6-4d7b-86ff-df7cd0e7d877')\"\n",
              "              title=\"Convert this dataframe to an interactive table.\"\n",
              "              style=\"display:none;\">\n",
              "        \n",
              "  <svg xmlns=\"http://www.w3.org/2000/svg\" height=\"24px\"viewBox=\"0 0 24 24\"\n",
              "       width=\"24px\">\n",
              "    <path d=\"M0 0h24v24H0V0z\" fill=\"none\"/>\n",
              "    <path d=\"M18.56 5.44l.94 2.06.94-2.06 2.06-.94-2.06-.94-.94-2.06-.94 2.06-2.06.94zm-11 1L8.5 8.5l.94-2.06 2.06-.94-2.06-.94L8.5 2.5l-.94 2.06-2.06.94zm10 10l.94 2.06.94-2.06 2.06-.94-2.06-.94-.94-2.06-.94 2.06-2.06.94z\"/><path d=\"M17.41 7.96l-1.37-1.37c-.4-.4-.92-.59-1.43-.59-.52 0-1.04.2-1.43.59L10.3 9.45l-7.72 7.72c-.78.78-.78 2.05 0 2.83L4 21.41c.39.39.9.59 1.41.59.51 0 1.02-.2 1.41-.59l7.78-7.78 2.81-2.81c.8-.78.8-2.07 0-2.86zM5.41 20L4 18.59l7.72-7.72 1.47 1.35L5.41 20z\"/>\n",
              "  </svg>\n",
              "      </button>\n",
              "      \n",
              "  <style>\n",
              "    .colab-df-container {\n",
              "      display:flex;\n",
              "      flex-wrap:wrap;\n",
              "      gap: 12px;\n",
              "    }\n",
              "\n",
              "    .colab-df-convert {\n",
              "      background-color: #E8F0FE;\n",
              "      border: none;\n",
              "      border-radius: 50%;\n",
              "      cursor: pointer;\n",
              "      display: none;\n",
              "      fill: #1967D2;\n",
              "      height: 32px;\n",
              "      padding: 0 0 0 0;\n",
              "      width: 32px;\n",
              "    }\n",
              "\n",
              "    .colab-df-convert:hover {\n",
              "      background-color: #E2EBFA;\n",
              "      box-shadow: 0px 1px 2px rgba(60, 64, 67, 0.3), 0px 1px 3px 1px rgba(60, 64, 67, 0.15);\n",
              "      fill: #174EA6;\n",
              "    }\n",
              "\n",
              "    [theme=dark] .colab-df-convert {\n",
              "      background-color: #3B4455;\n",
              "      fill: #D2E3FC;\n",
              "    }\n",
              "\n",
              "    [theme=dark] .colab-df-convert:hover {\n",
              "      background-color: #434B5C;\n",
              "      box-shadow: 0px 1px 3px 1px rgba(0, 0, 0, 0.15);\n",
              "      filter: drop-shadow(0px 1px 2px rgba(0, 0, 0, 0.3));\n",
              "      fill: #FFFFFF;\n",
              "    }\n",
              "  </style>\n",
              "\n",
              "      <script>\n",
              "        const buttonEl =\n",
              "          document.querySelector('#df-ac4f0230-a9b6-4d7b-86ff-df7cd0e7d877 button.colab-df-convert');\n",
              "        buttonEl.style.display =\n",
              "          google.colab.kernel.accessAllowed ? 'block' : 'none';\n",
              "\n",
              "        async function convertToInteractive(key) {\n",
              "          const element = document.querySelector('#df-ac4f0230-a9b6-4d7b-86ff-df7cd0e7d877');\n",
              "          const dataTable =\n",
              "            await google.colab.kernel.invokeFunction('convertToInteractive',\n",
              "                                                     [key], {});\n",
              "          if (!dataTable) return;\n",
              "\n",
              "          const docLinkHtml = 'Like what you see? Visit the ' +\n",
              "            '<a target=\"_blank\" href=https://colab.research.google.com/notebooks/data_table.ipynb>data table notebook</a>'\n",
              "            + ' to learn more about interactive tables.';\n",
              "          element.innerHTML = '';\n",
              "          dataTable['output_type'] = 'display_data';\n",
              "          await google.colab.output.renderOutput(dataTable, element);\n",
              "          const docLink = document.createElement('div');\n",
              "          docLink.innerHTML = docLinkHtml;\n",
              "          element.appendChild(docLink);\n",
              "        }\n",
              "      </script>\n",
              "    </div>\n",
              "  </div>\n",
              "  "
            ]
          },
          "metadata": {},
          "execution_count": 61
        }
      ]
    },
    {
      "cell_type": "code",
      "source": [
        "data.shape"
      ],
      "metadata": {
        "colab": {
          "base_uri": "https://localhost:8080/"
        },
        "id": "wVKh8LUfQf15",
        "outputId": "333bfbfe-9116-40a7-dc50-9c21d17dd3fb"
      },
      "execution_count": null,
      "outputs": [
        {
          "output_type": "execute_result",
          "data": {
            "text/plain": [
              "(1470, 35)"
            ]
          },
          "metadata": {},
          "execution_count": 62
        }
      ]
    },
    {
      "cell_type": "code",
      "source": [
        "data.dtypes"
      ],
      "metadata": {
        "colab": {
          "base_uri": "https://localhost:8080/"
        },
        "id": "BnU5O9YNQfto",
        "outputId": "3435f80b-b878-44b1-b3c9-89f07f7d6ace"
      },
      "execution_count": null,
      "outputs": [
        {
          "output_type": "execute_result",
          "data": {
            "text/plain": [
              "Age                          int64\n",
              "Attrition                   object\n",
              "BusinessTravel              object\n",
              "DailyRate                    int64\n",
              "Department                  object\n",
              "DistanceFromHome             int64\n",
              "Education                    int64\n",
              "EducationField              object\n",
              "EmployeeCount                int64\n",
              "EmployeeNumber               int64\n",
              "EnvironmentSatisfaction      int64\n",
              "Gender                      object\n",
              "HourlyRate                   int64\n",
              "JobInvolvement               int64\n",
              "JobLevel                     int64\n",
              "JobRole                     object\n",
              "JobSatisfaction              int64\n",
              "MaritalStatus               object\n",
              "MonthlyIncome                int64\n",
              "MonthlyRate                  int64\n",
              "NumCompaniesWorked           int64\n",
              "Over18                      object\n",
              "OverTime                    object\n",
              "PercentSalaryHike            int64\n",
              "PerformanceRating            int64\n",
              "RelationshipSatisfaction     int64\n",
              "StandardHours                int64\n",
              "StockOptionLevel             int64\n",
              "TotalWorkingYears            int64\n",
              "TrainingTimesLastYear        int64\n",
              "WorkLifeBalance              int64\n",
              "YearsAtCompany               int64\n",
              "YearsInCurrentRole           int64\n",
              "YearsSinceLastPromotion      int64\n",
              "YearsWithCurrManager         int64\n",
              "dtype: object"
            ]
          },
          "metadata": {},
          "execution_count": 64
        }
      ]
    },
    {
      "cell_type": "markdown",
      "source": [
        "### Checking for null values for each of the column variables"
      ],
      "metadata": {
        "id": "y3ydter6GmtH"
      }
    },
    {
      "cell_type": "code",
      "source": [
        "data.isna().sum()"
      ],
      "metadata": {
        "colab": {
          "base_uri": "https://localhost:8080/"
        },
        "id": "4V8M0jsSQzkU",
        "outputId": "7e50ee37-c1c0-4193-f6d4-e82743852dfe"
      },
      "execution_count": null,
      "outputs": [
        {
          "output_type": "execute_result",
          "data": {
            "text/plain": [
              "Age                         0\n",
              "Attrition                   0\n",
              "BusinessTravel              0\n",
              "DailyRate                   0\n",
              "Department                  0\n",
              "DistanceFromHome            0\n",
              "Education                   0\n",
              "EducationField              0\n",
              "EmployeeCount               0\n",
              "EmployeeNumber              0\n",
              "EnvironmentSatisfaction     0\n",
              "Gender                      0\n",
              "HourlyRate                  0\n",
              "JobInvolvement              0\n",
              "JobLevel                    0\n",
              "JobRole                     0\n",
              "JobSatisfaction             0\n",
              "MaritalStatus               0\n",
              "MonthlyIncome               0\n",
              "MonthlyRate                 0\n",
              "NumCompaniesWorked          0\n",
              "Over18                      0\n",
              "OverTime                    0\n",
              "PercentSalaryHike           0\n",
              "PerformanceRating           0\n",
              "RelationshipSatisfaction    0\n",
              "StandardHours               0\n",
              "StockOptionLevel            0\n",
              "TotalWorkingYears           0\n",
              "TrainingTimesLastYear       0\n",
              "WorkLifeBalance             0\n",
              "YearsAtCompany              0\n",
              "YearsInCurrentRole          0\n",
              "YearsSinceLastPromotion     0\n",
              "YearsWithCurrManager        0\n",
              "dtype: int64"
            ]
          },
          "metadata": {},
          "execution_count": 65
        }
      ]
    },
    {
      "cell_type": "markdown",
      "source": [
        "### **Conclusion :** There are no null values in the given dataset\n",
        "\n",
        "---\n",
        "\n",
        "\n",
        "\n",
        "---\n",
        "\n",
        "\n",
        "\n"
      ],
      "metadata": {
        "id": "mqnD125BG2je"
      }
    },
    {
      "cell_type": "markdown",
      "source": [
        "## Analysing the Statistics of the Dataset"
      ],
      "metadata": {
        "id": "8q4X_n_aHwpq"
      }
    },
    {
      "cell_type": "code",
      "source": [
        "data.describe()"
      ],
      "metadata": {
        "colab": {
          "base_uri": "https://localhost:8080/",
          "height": 394
        },
        "id": "Ra13c3P7RMP5",
        "outputId": "5bc3da1e-aa39-4aa1-fcc5-35898eb83764"
      },
      "execution_count": null,
      "outputs": [
        {
          "output_type": "execute_result",
          "data": {
            "text/plain": [
              "               Age    DailyRate  DistanceFromHome    Education  EmployeeCount  \\\n",
              "count  1470.000000  1470.000000       1470.000000  1470.000000         1470.0   \n",
              "mean     36.923810   802.485714          9.192517     2.912925            1.0   \n",
              "std       9.135373   403.509100          8.106864     1.024165            0.0   \n",
              "min      18.000000   102.000000          1.000000     1.000000            1.0   \n",
              "25%      30.000000   465.000000          2.000000     2.000000            1.0   \n",
              "50%      36.000000   802.000000          7.000000     3.000000            1.0   \n",
              "75%      43.000000  1157.000000         14.000000     4.000000            1.0   \n",
              "max      60.000000  1499.000000         29.000000     5.000000            1.0   \n",
              "\n",
              "       EmployeeNumber  EnvironmentSatisfaction   HourlyRate  JobInvolvement  \\\n",
              "count     1470.000000              1470.000000  1470.000000     1470.000000   \n",
              "mean      1024.865306                 2.721769    65.891156        2.729932   \n",
              "std        602.024335                 1.093082    20.329428        0.711561   \n",
              "min          1.000000                 1.000000    30.000000        1.000000   \n",
              "25%        491.250000                 2.000000    48.000000        2.000000   \n",
              "50%       1020.500000                 3.000000    66.000000        3.000000   \n",
              "75%       1555.750000                 4.000000    83.750000        3.000000   \n",
              "max       2068.000000                 4.000000   100.000000        4.000000   \n",
              "\n",
              "          JobLevel  ...  RelationshipSatisfaction  StandardHours  \\\n",
              "count  1470.000000  ...               1470.000000         1470.0   \n",
              "mean      2.063946  ...                  2.712245           80.0   \n",
              "std       1.106940  ...                  1.081209            0.0   \n",
              "min       1.000000  ...                  1.000000           80.0   \n",
              "25%       1.000000  ...                  2.000000           80.0   \n",
              "50%       2.000000  ...                  3.000000           80.0   \n",
              "75%       3.000000  ...                  4.000000           80.0   \n",
              "max       5.000000  ...                  4.000000           80.0   \n",
              "\n",
              "       StockOptionLevel  TotalWorkingYears  TrainingTimesLastYear  \\\n",
              "count       1470.000000        1470.000000            1470.000000   \n",
              "mean           0.793878          11.279592               2.799320   \n",
              "std            0.852077           7.780782               1.289271   \n",
              "min            0.000000           0.000000               0.000000   \n",
              "25%            0.000000           6.000000               2.000000   \n",
              "50%            1.000000          10.000000               3.000000   \n",
              "75%            1.000000          15.000000               3.000000   \n",
              "max            3.000000          40.000000               6.000000   \n",
              "\n",
              "       WorkLifeBalance  YearsAtCompany  YearsInCurrentRole  \\\n",
              "count      1470.000000     1470.000000         1470.000000   \n",
              "mean          2.761224        7.008163            4.229252   \n",
              "std           0.706476        6.126525            3.623137   \n",
              "min           1.000000        0.000000            0.000000   \n",
              "25%           2.000000        3.000000            2.000000   \n",
              "50%           3.000000        5.000000            3.000000   \n",
              "75%           3.000000        9.000000            7.000000   \n",
              "max           4.000000       40.000000           18.000000   \n",
              "\n",
              "       YearsSinceLastPromotion  YearsWithCurrManager  \n",
              "count              1470.000000           1470.000000  \n",
              "mean                  2.187755              4.123129  \n",
              "std                   3.222430              3.568136  \n",
              "min                   0.000000              0.000000  \n",
              "25%                   0.000000              2.000000  \n",
              "50%                   1.000000              3.000000  \n",
              "75%                   3.000000              7.000000  \n",
              "max                  15.000000             17.000000  \n",
              "\n",
              "[8 rows x 26 columns]"
            ],
            "text/html": [
              "\n",
              "  <div id=\"df-8eed3ac6-418f-4e17-817c-12bdd94e86fe\">\n",
              "    <div class=\"colab-df-container\">\n",
              "      <div>\n",
              "<style scoped>\n",
              "    .dataframe tbody tr th:only-of-type {\n",
              "        vertical-align: middle;\n",
              "    }\n",
              "\n",
              "    .dataframe tbody tr th {\n",
              "        vertical-align: top;\n",
              "    }\n",
              "\n",
              "    .dataframe thead th {\n",
              "        text-align: right;\n",
              "    }\n",
              "</style>\n",
              "<table border=\"1\" class=\"dataframe\">\n",
              "  <thead>\n",
              "    <tr style=\"text-align: right;\">\n",
              "      <th></th>\n",
              "      <th>Age</th>\n",
              "      <th>DailyRate</th>\n",
              "      <th>DistanceFromHome</th>\n",
              "      <th>Education</th>\n",
              "      <th>EmployeeCount</th>\n",
              "      <th>EmployeeNumber</th>\n",
              "      <th>EnvironmentSatisfaction</th>\n",
              "      <th>HourlyRate</th>\n",
              "      <th>JobInvolvement</th>\n",
              "      <th>JobLevel</th>\n",
              "      <th>...</th>\n",
              "      <th>RelationshipSatisfaction</th>\n",
              "      <th>StandardHours</th>\n",
              "      <th>StockOptionLevel</th>\n",
              "      <th>TotalWorkingYears</th>\n",
              "      <th>TrainingTimesLastYear</th>\n",
              "      <th>WorkLifeBalance</th>\n",
              "      <th>YearsAtCompany</th>\n",
              "      <th>YearsInCurrentRole</th>\n",
              "      <th>YearsSinceLastPromotion</th>\n",
              "      <th>YearsWithCurrManager</th>\n",
              "    </tr>\n",
              "  </thead>\n",
              "  <tbody>\n",
              "    <tr>\n",
              "      <th>count</th>\n",
              "      <td>1470.000000</td>\n",
              "      <td>1470.000000</td>\n",
              "      <td>1470.000000</td>\n",
              "      <td>1470.000000</td>\n",
              "      <td>1470.0</td>\n",
              "      <td>1470.000000</td>\n",
              "      <td>1470.000000</td>\n",
              "      <td>1470.000000</td>\n",
              "      <td>1470.000000</td>\n",
              "      <td>1470.000000</td>\n",
              "      <td>...</td>\n",
              "      <td>1470.000000</td>\n",
              "      <td>1470.0</td>\n",
              "      <td>1470.000000</td>\n",
              "      <td>1470.000000</td>\n",
              "      <td>1470.000000</td>\n",
              "      <td>1470.000000</td>\n",
              "      <td>1470.000000</td>\n",
              "      <td>1470.000000</td>\n",
              "      <td>1470.000000</td>\n",
              "      <td>1470.000000</td>\n",
              "    </tr>\n",
              "    <tr>\n",
              "      <th>mean</th>\n",
              "      <td>36.923810</td>\n",
              "      <td>802.485714</td>\n",
              "      <td>9.192517</td>\n",
              "      <td>2.912925</td>\n",
              "      <td>1.0</td>\n",
              "      <td>1024.865306</td>\n",
              "      <td>2.721769</td>\n",
              "      <td>65.891156</td>\n",
              "      <td>2.729932</td>\n",
              "      <td>2.063946</td>\n",
              "      <td>...</td>\n",
              "      <td>2.712245</td>\n",
              "      <td>80.0</td>\n",
              "      <td>0.793878</td>\n",
              "      <td>11.279592</td>\n",
              "      <td>2.799320</td>\n",
              "      <td>2.761224</td>\n",
              "      <td>7.008163</td>\n",
              "      <td>4.229252</td>\n",
              "      <td>2.187755</td>\n",
              "      <td>4.123129</td>\n",
              "    </tr>\n",
              "    <tr>\n",
              "      <th>std</th>\n",
              "      <td>9.135373</td>\n",
              "      <td>403.509100</td>\n",
              "      <td>8.106864</td>\n",
              "      <td>1.024165</td>\n",
              "      <td>0.0</td>\n",
              "      <td>602.024335</td>\n",
              "      <td>1.093082</td>\n",
              "      <td>20.329428</td>\n",
              "      <td>0.711561</td>\n",
              "      <td>1.106940</td>\n",
              "      <td>...</td>\n",
              "      <td>1.081209</td>\n",
              "      <td>0.0</td>\n",
              "      <td>0.852077</td>\n",
              "      <td>7.780782</td>\n",
              "      <td>1.289271</td>\n",
              "      <td>0.706476</td>\n",
              "      <td>6.126525</td>\n",
              "      <td>3.623137</td>\n",
              "      <td>3.222430</td>\n",
              "      <td>3.568136</td>\n",
              "    </tr>\n",
              "    <tr>\n",
              "      <th>min</th>\n",
              "      <td>18.000000</td>\n",
              "      <td>102.000000</td>\n",
              "      <td>1.000000</td>\n",
              "      <td>1.000000</td>\n",
              "      <td>1.0</td>\n",
              "      <td>1.000000</td>\n",
              "      <td>1.000000</td>\n",
              "      <td>30.000000</td>\n",
              "      <td>1.000000</td>\n",
              "      <td>1.000000</td>\n",
              "      <td>...</td>\n",
              "      <td>1.000000</td>\n",
              "      <td>80.0</td>\n",
              "      <td>0.000000</td>\n",
              "      <td>0.000000</td>\n",
              "      <td>0.000000</td>\n",
              "      <td>1.000000</td>\n",
              "      <td>0.000000</td>\n",
              "      <td>0.000000</td>\n",
              "      <td>0.000000</td>\n",
              "      <td>0.000000</td>\n",
              "    </tr>\n",
              "    <tr>\n",
              "      <th>25%</th>\n",
              "      <td>30.000000</td>\n",
              "      <td>465.000000</td>\n",
              "      <td>2.000000</td>\n",
              "      <td>2.000000</td>\n",
              "      <td>1.0</td>\n",
              "      <td>491.250000</td>\n",
              "      <td>2.000000</td>\n",
              "      <td>48.000000</td>\n",
              "      <td>2.000000</td>\n",
              "      <td>1.000000</td>\n",
              "      <td>...</td>\n",
              "      <td>2.000000</td>\n",
              "      <td>80.0</td>\n",
              "      <td>0.000000</td>\n",
              "      <td>6.000000</td>\n",
              "      <td>2.000000</td>\n",
              "      <td>2.000000</td>\n",
              "      <td>3.000000</td>\n",
              "      <td>2.000000</td>\n",
              "      <td>0.000000</td>\n",
              "      <td>2.000000</td>\n",
              "    </tr>\n",
              "    <tr>\n",
              "      <th>50%</th>\n",
              "      <td>36.000000</td>\n",
              "      <td>802.000000</td>\n",
              "      <td>7.000000</td>\n",
              "      <td>3.000000</td>\n",
              "      <td>1.0</td>\n",
              "      <td>1020.500000</td>\n",
              "      <td>3.000000</td>\n",
              "      <td>66.000000</td>\n",
              "      <td>3.000000</td>\n",
              "      <td>2.000000</td>\n",
              "      <td>...</td>\n",
              "      <td>3.000000</td>\n",
              "      <td>80.0</td>\n",
              "      <td>1.000000</td>\n",
              "      <td>10.000000</td>\n",
              "      <td>3.000000</td>\n",
              "      <td>3.000000</td>\n",
              "      <td>5.000000</td>\n",
              "      <td>3.000000</td>\n",
              "      <td>1.000000</td>\n",
              "      <td>3.000000</td>\n",
              "    </tr>\n",
              "    <tr>\n",
              "      <th>75%</th>\n",
              "      <td>43.000000</td>\n",
              "      <td>1157.000000</td>\n",
              "      <td>14.000000</td>\n",
              "      <td>4.000000</td>\n",
              "      <td>1.0</td>\n",
              "      <td>1555.750000</td>\n",
              "      <td>4.000000</td>\n",
              "      <td>83.750000</td>\n",
              "      <td>3.000000</td>\n",
              "      <td>3.000000</td>\n",
              "      <td>...</td>\n",
              "      <td>4.000000</td>\n",
              "      <td>80.0</td>\n",
              "      <td>1.000000</td>\n",
              "      <td>15.000000</td>\n",
              "      <td>3.000000</td>\n",
              "      <td>3.000000</td>\n",
              "      <td>9.000000</td>\n",
              "      <td>7.000000</td>\n",
              "      <td>3.000000</td>\n",
              "      <td>7.000000</td>\n",
              "    </tr>\n",
              "    <tr>\n",
              "      <th>max</th>\n",
              "      <td>60.000000</td>\n",
              "      <td>1499.000000</td>\n",
              "      <td>29.000000</td>\n",
              "      <td>5.000000</td>\n",
              "      <td>1.0</td>\n",
              "      <td>2068.000000</td>\n",
              "      <td>4.000000</td>\n",
              "      <td>100.000000</td>\n",
              "      <td>4.000000</td>\n",
              "      <td>5.000000</td>\n",
              "      <td>...</td>\n",
              "      <td>4.000000</td>\n",
              "      <td>80.0</td>\n",
              "      <td>3.000000</td>\n",
              "      <td>40.000000</td>\n",
              "      <td>6.000000</td>\n",
              "      <td>4.000000</td>\n",
              "      <td>40.000000</td>\n",
              "      <td>18.000000</td>\n",
              "      <td>15.000000</td>\n",
              "      <td>17.000000</td>\n",
              "    </tr>\n",
              "  </tbody>\n",
              "</table>\n",
              "<p>8 rows × 26 columns</p>\n",
              "</div>\n",
              "      <button class=\"colab-df-convert\" onclick=\"convertToInteractive('df-8eed3ac6-418f-4e17-817c-12bdd94e86fe')\"\n",
              "              title=\"Convert this dataframe to an interactive table.\"\n",
              "              style=\"display:none;\">\n",
              "        \n",
              "  <svg xmlns=\"http://www.w3.org/2000/svg\" height=\"24px\"viewBox=\"0 0 24 24\"\n",
              "       width=\"24px\">\n",
              "    <path d=\"M0 0h24v24H0V0z\" fill=\"none\"/>\n",
              "    <path d=\"M18.56 5.44l.94 2.06.94-2.06 2.06-.94-2.06-.94-.94-2.06-.94 2.06-2.06.94zm-11 1L8.5 8.5l.94-2.06 2.06-.94-2.06-.94L8.5 2.5l-.94 2.06-2.06.94zm10 10l.94 2.06.94-2.06 2.06-.94-2.06-.94-.94-2.06-.94 2.06-2.06.94z\"/><path d=\"M17.41 7.96l-1.37-1.37c-.4-.4-.92-.59-1.43-.59-.52 0-1.04.2-1.43.59L10.3 9.45l-7.72 7.72c-.78.78-.78 2.05 0 2.83L4 21.41c.39.39.9.59 1.41.59.51 0 1.02-.2 1.41-.59l7.78-7.78 2.81-2.81c.8-.78.8-2.07 0-2.86zM5.41 20L4 18.59l7.72-7.72 1.47 1.35L5.41 20z\"/>\n",
              "  </svg>\n",
              "      </button>\n",
              "      \n",
              "  <style>\n",
              "    .colab-df-container {\n",
              "      display:flex;\n",
              "      flex-wrap:wrap;\n",
              "      gap: 12px;\n",
              "    }\n",
              "\n",
              "    .colab-df-convert {\n",
              "      background-color: #E8F0FE;\n",
              "      border: none;\n",
              "      border-radius: 50%;\n",
              "      cursor: pointer;\n",
              "      display: none;\n",
              "      fill: #1967D2;\n",
              "      height: 32px;\n",
              "      padding: 0 0 0 0;\n",
              "      width: 32px;\n",
              "    }\n",
              "\n",
              "    .colab-df-convert:hover {\n",
              "      background-color: #E2EBFA;\n",
              "      box-shadow: 0px 1px 2px rgba(60, 64, 67, 0.3), 0px 1px 3px 1px rgba(60, 64, 67, 0.15);\n",
              "      fill: #174EA6;\n",
              "    }\n",
              "\n",
              "    [theme=dark] .colab-df-convert {\n",
              "      background-color: #3B4455;\n",
              "      fill: #D2E3FC;\n",
              "    }\n",
              "\n",
              "    [theme=dark] .colab-df-convert:hover {\n",
              "      background-color: #434B5C;\n",
              "      box-shadow: 0px 1px 3px 1px rgba(0, 0, 0, 0.15);\n",
              "      filter: drop-shadow(0px 1px 2px rgba(0, 0, 0, 0.3));\n",
              "      fill: #FFFFFF;\n",
              "    }\n",
              "  </style>\n",
              "\n",
              "      <script>\n",
              "        const buttonEl =\n",
              "          document.querySelector('#df-8eed3ac6-418f-4e17-817c-12bdd94e86fe button.colab-df-convert');\n",
              "        buttonEl.style.display =\n",
              "          google.colab.kernel.accessAllowed ? 'block' : 'none';\n",
              "\n",
              "        async function convertToInteractive(key) {\n",
              "          const element = document.querySelector('#df-8eed3ac6-418f-4e17-817c-12bdd94e86fe');\n",
              "          const dataTable =\n",
              "            await google.colab.kernel.invokeFunction('convertToInteractive',\n",
              "                                                     [key], {});\n",
              "          if (!dataTable) return;\n",
              "\n",
              "          const docLinkHtml = 'Like what you see? Visit the ' +\n",
              "            '<a target=\"_blank\" href=https://colab.research.google.com/notebooks/data_table.ipynb>data table notebook</a>'\n",
              "            + ' to learn more about interactive tables.';\n",
              "          element.innerHTML = '';\n",
              "          dataTable['output_type'] = 'display_data';\n",
              "          await google.colab.output.renderOutput(dataTable, element);\n",
              "          const docLink = document.createElement('div');\n",
              "          docLink.innerHTML = docLinkHtml;\n",
              "          element.appendChild(docLink);\n",
              "        }\n",
              "      </script>\n",
              "    </div>\n",
              "  </div>\n",
              "  "
            ]
          },
          "metadata": {},
          "execution_count": 66
        }
      ]
    },
    {
      "cell_type": "markdown",
      "source": [
        "### Finding the number of employees who have left the company and who are still working in the company"
      ],
      "metadata": {
        "id": "0mt94STmIUm5"
      }
    },
    {
      "cell_type": "code",
      "source": [
        "data['Attrition'].value_counts()"
      ],
      "metadata": {
        "colab": {
          "base_uri": "https://localhost:8080/"
        },
        "id": "97b1e_0rRkJ5",
        "outputId": "03999ab0-6ab5-4ae2-cf23-b3940595c1b0"
      },
      "execution_count": null,
      "outputs": [
        {
          "output_type": "execute_result",
          "data": {
            "text/plain": [
              "No     1233\n",
              "Yes     237\n",
              "Name: Attrition, dtype: int64"
            ]
          },
          "metadata": {},
          "execution_count": 67
        }
      ]
    },
    {
      "cell_type": "markdown",
      "source": [
        "### Visualizing the number of employees who have left the company and who are still working in the company"
      ],
      "metadata": {
        "id": "Y_slQU9mJvLp"
      }
    },
    {
      "cell_type": "code",
      "source": [
        "sns.countplot(x='Attrition', data=data, palette='inferno')"
      ],
      "metadata": {
        "colab": {
          "base_uri": "https://localhost:8080/",
          "height": 296
        },
        "id": "8h_fuz9_SBg0",
        "outputId": "5c317e80-77d2-4773-8e69-a3608898c3b4"
      },
      "execution_count": null,
      "outputs": [
        {
          "output_type": "execute_result",
          "data": {
            "text/plain": [
              "<matplotlib.axes._subplots.AxesSubplot at 0x7f48d3125050>"
            ]
          },
          "metadata": {},
          "execution_count": 68
        },
        {
          "output_type": "display_data",
          "data": {
            "text/plain": [
              "<Figure size 432x288 with 1 Axes>"
            ],
            "image/png": "[encoded data removed]"
          },
          "metadata": {
            "needs_background": "light"
          }
        }
      ]
    },
    {
      "cell_type": "markdown",
      "source": [
        "### **Conclusions :**  \n",
        "### From the above Bar plot it can be concluded that --\n",
        "### *   237 Employees have left the company, may be they are retired or have resigned.\n",
        "### *   1233 Employees are still working in the company.\n",
        "\n",
        "---\n",
        "\n",
        "\n",
        "\n",
        "---\n",
        "\n",
        "\n",
        "\n"
      ],
      "metadata": {
        "id": "aji9yIXQKhK7"
      }
    },
    {
      "cell_type": "markdown",
      "source": [
        "### Visualizing the employee attrition according to the Age of the employees"
      ],
      "metadata": {
        "id": "ca8TeETKSnJe"
      }
    },
    {
      "cell_type": "code",
      "source": [
        "plt.subplots(figsize = (12,4))\n",
        "sns.countplot(x='Age', hue='Attrition', data = data, palette = 'rocket')"
      ],
      "metadata": {
        "colab": {
          "base_uri": "https://localhost:8080/",
          "height": 296
        },
        "id": "419MLfs0SuIE",
        "outputId": "6a7bc7c4-f7a4-4ebb-b383-0ef724ef68a5"
      },
      "execution_count": null,
      "outputs": [
        {
          "output_type": "execute_result",
          "data": {
            "text/plain": [
              "<matplotlib.axes._subplots.AxesSubplot at 0x7f48d0fc7e10>"
            ]
          },
          "metadata": {},
          "execution_count": 69
        },
        {
          "output_type": "display_data",
          "data": {
            "text/plain": [
              "<Figure size 864x288 with 1 Axes>"
            ],
            "image/png": "[encoded data removed]"
          },
          "metadata": {
            "needs_background": "light"
          }
        }
      ]
    },
    {
      "cell_type": "markdown",
      "source": [
        "### **Conclusions :**\n",
        "\n",
        "### From the above graph we obtain the following insights --\n",
        "### *   The employees still working in the company mainly belong to the Age range of 34 to 36.\n",
        "### *   The employees leaving the company are aged 28, 29 and 31.\n",
        "\n",
        "---\n",
        "\n",
        "\n",
        "\n",
        "---\n",
        "\n",
        "\n",
        "\n"
      ],
      "metadata": {
        "id": "eaDGM7GoTKf8"
      }
    },
    {
      "cell_type": "markdown",
      "source": [
        "## Data Preprocessing"
      ],
      "metadata": {
        "id": "malAyv_GVN0W"
      }
    },
    {
      "cell_type": "markdown",
      "source": [
        "### Obtaining the data of all the object data types along with their unique values"
      ],
      "metadata": {
        "id": "gApRjVOdVdD-"
      }
    },
    {
      "cell_type": "code",
      "source": [
        "for column in data.columns:\n",
        "  if data[column].dtype == object:\n",
        "    print(str(column) + ' : ' + str(data[column].unique()))\n",
        "    print(data[column].value_counts())\n",
        "    print('===================================================================')"
      ],
      "metadata": {
        "colab": {
          "base_uri": "https://localhost:8080/"
        },
        "id": "0tqKvrdAUU_6",
        "outputId": "36ac06e2-445b-45ed-c59c-5438458c135f"
      },
      "execution_count": null,
      "outputs": [
        {
          "output_type": "stream",
          "name": "stdout",
          "text": [
            "Attrition : ['Yes' 'No']\n",
            "No     1233\n",
            "Yes     237\n",
            "Name: Attrition, dtype: int64\n",
            "===================================================================\n",
            "BusinessTravel : ['Travel_Rarely' 'Travel_Frequently' 'Non-Travel']\n",
            "Travel_Rarely        1043\n",
            "Travel_Frequently     277\n",
            "Non-Travel            150\n",
            "Name: BusinessTravel, dtype: int64\n",
            "===================================================================\n",
            "Department : ['Sales' 'Research & Development' 'Human Resources']\n",
            "Research & Development    961\n",
            "Sales                     446\n",
            "Human Resources            63\n",
            "Name: Department, dtype: int64\n",
            "===================================================================\n",
            "EducationField : ['Life Sciences' 'Other' 'Medical' 'Marketing' 'Technical Degree'\n",
            " 'Human Resources']\n",
            "Life Sciences       606\n",
            "Medical             464\n",
            "Marketing           159\n",
            "Technical Degree    132\n",
            "Other                82\n",
            "Human Resources      27\n",
            "Name: EducationField, dtype: int64\n",
            "===================================================================\n",
            "Gender : ['Female' 'Male']\n",
            "Male      882\n",
            "Female    588\n",
            "Name: Gender, dtype: int64\n",
            "===================================================================\n",
            "JobRole : ['Sales Executive' 'Research Scientist' 'Laboratory Technician'\n",
            " 'Manufacturing Director' 'Healthcare Representative' 'Manager'\n",
            " 'Sales Representative' 'Research Director' 'Human Resources']\n",
            "Sales Executive              326\n",
            "Research Scientist           292\n",
            "Laboratory Technician        259\n",
            "Manufacturing Director       145\n",
            "Healthcare Representative    131\n",
            "Manager                      102\n",
            "Sales Representative          83\n",
            "Research Director             80\n",
            "Human Resources               52\n",
            "Name: JobRole, dtype: int64\n",
            "===================================================================\n",
            "MaritalStatus : ['Single' 'Married' 'Divorced']\n",
            "Married     673\n",
            "Single      470\n",
            "Divorced    327\n",
            "Name: MaritalStatus, dtype: int64\n",
            "===================================================================\n",
            "Over18 : ['Y']\n",
            "Y    1470\n",
            "Name: Over18, dtype: int64\n",
            "===================================================================\n",
            "OverTime : ['Yes' 'No']\n",
            "No     1054\n",
            "Yes     416\n",
            "Name: OverTime, dtype: int64\n",
            "===================================================================\n"
          ]
        }
      ]
    },
    {
      "cell_type": "markdown",
      "source": [
        "### **Conclusions :**\n",
        "### From the above results it is concluded that --\n",
        "### *   All the employees are above 18 years of age so the 'Over18' variable is of no use.\n",
        "### *   The 'EmployeeNumber' variable is not of much importance for making predictions.\n",
        "### *   The 'StandardHours' variable is of no use as it consists of only a single value i.e., 80.\n",
        "### *   The 'EmployeeCount' variable is of no use as it consists of only a single value i.e., 1.\n",
        "\n",
        "---\n",
        "\n",
        "\n",
        "\n",
        "---\n",
        "\n"
      ],
      "metadata": {
        "id": "iha2gGj9Vvr9"
      }
    },
    {
      "cell_type": "markdown",
      "source": [
        "### Hence, the above mentioned columns are removed."
      ],
      "metadata": {
        "id": "29me-FRhXsDG"
      }
    },
    {
      "cell_type": "code",
      "source": [
        "data = data.drop('Over18',axis=1)          \n",
        "data = data.drop('EmployeeNumber',axis=1)\n",
        "data = data.drop('StandardHours',axis=1)   \n",
        "data = data.drop('EmployeeCount',axis=1)  "
      ],
      "metadata": {
        "id": "8EJbgOWKV7ju"
      },
      "execution_count": null,
      "outputs": []
    },
    {
      "cell_type": "markdown",
      "source": [
        "### Obtaining the Correlation among the variables in order to determine the impact of every variable on the other variables as well as on the target variables."
      ],
      "metadata": {
        "id": "v9J6hHsnX3t9"
      }
    },
    {
      "cell_type": "code",
      "source": [
        "data.corr()"
      ],
      "metadata": {
        "colab": {
          "base_uri": "https://localhost:8080/",
          "height": 864
        },
        "id": "kyHwxqDMXk2Z",
        "outputId": "153a5713-6d02-4fdb-c8e9-7a91cd191b26"
      },
      "execution_count": null,
      "outputs": [
        {
          "output_type": "execute_result",
          "data": {
            "text/plain": [
              "                               Age  DailyRate  DistanceFromHome  Education  \\\n",
              "Age                       1.000000   0.010661         -0.001686   0.208034   \n",
              "DailyRate                 0.010661   1.000000         -0.004985  -0.016806   \n",
              "DistanceFromHome         -0.001686  -0.004985          1.000000   0.021042   \n",
              "Education                 0.208034  -0.016806          0.021042   1.000000   \n",
              "EnvironmentSatisfaction   0.010146   0.018355         -0.016075  -0.027128   \n",
              "HourlyRate                0.024287   0.023381          0.031131   0.016775   \n",
              "JobInvolvement            0.029820   0.046135          0.008783   0.042438   \n",
              "JobLevel                  0.509604   0.002966          0.005303   0.101589   \n",
              "JobSatisfaction          -0.004892   0.030571         -0.003669  -0.011296   \n",
              "MonthlyIncome             0.497855   0.007707         -0.017014   0.094961   \n",
              "MonthlyRate               0.028051  -0.032182          0.027473  -0.026084   \n",
              "NumCompaniesWorked        0.299635   0.038153         -0.029251   0.126317   \n",
              "PercentSalaryHike         0.003634   0.022704          0.040235  -0.011111   \n",
              "PerformanceRating         0.001904   0.000473          0.027110  -0.024539   \n",
              "RelationshipSatisfaction  0.053535   0.007846          0.006557  -0.009118   \n",
              "StockOptionLevel          0.037510   0.042143          0.044872   0.018422   \n",
              "TotalWorkingYears         0.680381   0.014515          0.004628   0.148280   \n",
              "TrainingTimesLastYear    -0.019621   0.002453         -0.036942  -0.025100   \n",
              "WorkLifeBalance          -0.021490  -0.037848         -0.026556   0.009819   \n",
              "YearsAtCompany            0.311309  -0.034055          0.009508   0.069114   \n",
              "YearsInCurrentRole        0.212901   0.009932          0.018845   0.060236   \n",
              "YearsSinceLastPromotion   0.216513  -0.033229          0.010029   0.054254   \n",
              "YearsWithCurrManager      0.202089  -0.026363          0.014406   0.069065   \n",
              "\n",
              "                          EnvironmentSatisfaction  HourlyRate  JobInvolvement  \\\n",
              "Age                                      0.010146    0.024287        0.029820   \n",
              "DailyRate                                0.018355    0.023381        0.046135   \n",
              "DistanceFromHome                        -0.016075    0.031131        0.008783   \n",
              "Education                               -0.027128    0.016775        0.042438   \n",
              "EnvironmentSatisfaction                  1.000000   -0.049857       -0.008278   \n",
              "HourlyRate                              -0.049857    1.000000        0.042861   \n",
              "JobInvolvement                          -0.008278    0.042861        1.000000   \n",
              "JobLevel                                 0.001212   -0.027853       -0.012630   \n",
              "JobSatisfaction                         -0.006784   -0.071335       -0.021476   \n",
              "MonthlyIncome                           -0.006259   -0.015794       -0.015271   \n",
              "MonthlyRate                              0.037600   -0.015297       -0.016322   \n",
              "NumCompaniesWorked                       0.012594    0.022157        0.015012   \n",
              "PercentSalaryHike                       -0.031701   -0.009062       -0.017205   \n",
              "PerformanceRating                       -0.029548   -0.002172       -0.029071   \n",
              "RelationshipSatisfaction                 0.007665    0.001330        0.034297   \n",
              "StockOptionLevel                         0.003432    0.050263        0.021523   \n",
              "TotalWorkingYears                       -0.002693   -0.002334       -0.005533   \n",
              "TrainingTimesLastYear                   -0.019359   -0.008548       -0.015338   \n",
              "WorkLifeBalance                          0.027627   -0.004607       -0.014617   \n",
              "YearsAtCompany                           0.001458   -0.019582       -0.021355   \n",
              "YearsInCurrentRole                       0.018007   -0.024106        0.008717   \n",
              "YearsSinceLastPromotion                  0.016194   -0.026716       -0.024184   \n",
              "YearsWithCurrManager                    -0.004999   -0.020123        0.025976   \n",
              "\n",
              "                          JobLevel  JobSatisfaction  MonthlyIncome  ...  \\\n",
              "Age                       0.509604        -0.004892       0.497855  ...   \n",
              "DailyRate                 0.002966         0.030571       0.007707  ...   \n",
              "DistanceFromHome          0.005303        -0.003669      -0.017014  ...   \n",
              "Education                 0.101589        -0.011296       0.094961  ...   \n",
              "EnvironmentSatisfaction   0.001212        -0.006784      -0.006259  ...   \n",
              "HourlyRate               -0.027853        -0.071335      -0.015794  ...   \n",
              "JobInvolvement           -0.012630        -0.021476      -0.015271  ...   \n",
              "JobLevel                  1.000000        -0.001944       0.950300  ...   \n",
              "JobSatisfaction          -0.001944         1.000000      -0.007157  ...   \n",
              "MonthlyIncome             0.950300        -0.007157       1.000000  ...   \n",
              "MonthlyRate               0.039563         0.000644       0.034814  ...   \n",
              "NumCompaniesWorked        0.142501        -0.055699       0.149515  ...   \n",
              "PercentSalaryHike        -0.034730         0.020002      -0.027269  ...   \n",
              "PerformanceRating        -0.021222         0.002297      -0.017120  ...   \n",
              "RelationshipSatisfaction  0.021642        -0.012454       0.025873  ...   \n",
              "StockOptionLevel          0.013984         0.010690       0.005408  ...   \n",
              "TotalWorkingYears         0.782208        -0.020185       0.772893  ...   \n",
              "TrainingTimesLastYear    -0.018191        -0.005779      -0.021736  ...   \n",
              "WorkLifeBalance           0.037818        -0.019459       0.030683  ...   \n",
              "YearsAtCompany            0.534739        -0.003803       0.514285  ...   \n",
              "YearsInCurrentRole        0.389447        -0.002305       0.363818  ...   \n",
              "YearsSinceLastPromotion   0.353885        -0.018214       0.344978  ...   \n",
              "YearsWithCurrManager      0.375281        -0.027656       0.344079  ...   \n",
              "\n",
              "                          PerformanceRating  RelationshipSatisfaction  \\\n",
              "Age                                0.001904                  0.053535   \n",
              "DailyRate                          0.000473                  0.007846   \n",
              "DistanceFromHome                   0.027110                  0.006557   \n",
              "Education                         -0.024539                 -0.009118   \n",
              "EnvironmentSatisfaction           -0.029548                  0.007665   \n",
              "HourlyRate                        -0.002172                  0.001330   \n",
              "JobInvolvement                    -0.029071                  0.034297   \n",
              "JobLevel                          -0.021222                  0.021642   \n",
              "JobSatisfaction                    0.002297                 -0.012454   \n",
              "MonthlyIncome                     -0.017120                  0.025873   \n",
              "MonthlyRate                       -0.009811                 -0.004085   \n",
              "NumCompaniesWorked                -0.014095                  0.052733   \n",
              "PercentSalaryHike                  0.773550                 -0.040490   \n",
              "PerformanceRating                  1.000000                 -0.031351   \n",
              "RelationshipSatisfaction          -0.031351                  1.000000   \n",
              "StockOptionLevel                   0.003506                 -0.045952   \n",
              "TotalWorkingYears                  0.006744                  0.024054   \n",
              "TrainingTimesLastYear             -0.015579                  0.002497   \n",
              "WorkLifeBalance                    0.002572                  0.019604   \n",
              "YearsAtCompany                     0.003435                  0.019367   \n",
              "YearsInCurrentRole                 0.034986                 -0.015123   \n",
              "YearsSinceLastPromotion            0.017896                  0.033493   \n",
              "YearsWithCurrManager               0.022827                 -0.000867   \n",
              "\n",
              "                          StockOptionLevel  TotalWorkingYears  \\\n",
              "Age                               0.037510           0.680381   \n",
              "DailyRate                         0.042143           0.014515   \n",
              "DistanceFromHome                  0.044872           0.004628   \n",
              "Education                         0.018422           0.148280   \n",
              "EnvironmentSatisfaction           0.003432          -0.002693   \n",
              "HourlyRate                        0.050263          -0.002334   \n",
              "JobInvolvement                    0.021523          -0.005533   \n",
              "JobLevel                          0.013984           0.782208   \n",
              "JobSatisfaction                   0.010690          -0.020185   \n",
              "MonthlyIncome                     0.005408           0.772893   \n",
              "MonthlyRate                      -0.034323           0.026442   \n",
              "NumCompaniesWorked                0.030075           0.237639   \n",
              "PercentSalaryHike                 0.007528          -0.020608   \n",
              "PerformanceRating                 0.003506           0.006744   \n",
              "RelationshipSatisfaction         -0.045952           0.024054   \n",
              "StockOptionLevel                  1.000000           0.010136   \n",
              "TotalWorkingYears                 0.010136           1.000000   \n",
              "TrainingTimesLastYear             0.011274          -0.035662   \n",
              "WorkLifeBalance                   0.004129           0.001008   \n",
              "YearsAtCompany                    0.015058           0.628133   \n",
              "YearsInCurrentRole                0.050818           0.460365   \n",
              "YearsSinceLastPromotion           0.014352           0.404858   \n",
              "YearsWithCurrManager              0.024698           0.459188   \n",
              "\n",
              "                          TrainingTimesLastYear  WorkLifeBalance  \\\n",
              "Age                                   -0.019621        -0.021490   \n",
              "DailyRate                              0.002453        -0.037848   \n",
              "DistanceFromHome                      -0.036942        -0.026556   \n",
              "Education                             -0.025100         0.009819   \n",
              "EnvironmentSatisfaction               -0.019359         0.027627   \n",
              "HourlyRate                            -0.008548        -0.004607   \n",
              "JobInvolvement                        -0.015338        -0.014617   \n",
              "JobLevel                              -0.018191         0.037818   \n",
              "JobSatisfaction                       -0.005779        -0.019459   \n",
              "MonthlyIncome                         -0.021736         0.030683   \n",
              "MonthlyRate                            0.001467         0.007963   \n",
              "NumCompaniesWorked                    -0.066054        -0.008366   \n",
              "PercentSalaryHike                     -0.005221        -0.003280   \n",
              "PerformanceRating                     -0.015579         0.002572   \n",
              "RelationshipSatisfaction               0.002497         0.019604   \n",
              "StockOptionLevel                       0.011274         0.004129   \n",
              "TotalWorkingYears                     -0.035662         0.001008   \n",
              "TrainingTimesLastYear                  1.000000         0.028072   \n",
              "WorkLifeBalance                        0.028072         1.000000   \n",
              "YearsAtCompany                         0.003569         0.012089   \n",
              "YearsInCurrentRole                    -0.005738         0.049856   \n",
              "YearsSinceLastPromotion               -0.002067         0.008941   \n",
              "YearsWithCurrManager                  -0.004096         0.002759   \n",
              "\n",
              "                          YearsAtCompany  YearsInCurrentRole  \\\n",
              "Age                             0.311309            0.212901   \n",
              "DailyRate                      -0.034055            0.009932   \n",
              "DistanceFromHome                0.009508            0.018845   \n",
              "Education                       0.069114            0.060236   \n",
              "EnvironmentSatisfaction         0.001458            0.018007   \n",
              "HourlyRate                     -0.019582           -0.024106   \n",
              "JobInvolvement                 -0.021355            0.008717   \n",
              "JobLevel                        0.534739            0.389447   \n",
              "JobSatisfaction                -0.003803           -0.002305   \n",
              "MonthlyIncome                   0.514285            0.363818   \n",
              "MonthlyRate                    -0.023655           -0.012815   \n",
              "NumCompaniesWorked             -0.118421           -0.090754   \n",
              "PercentSalaryHike              -0.035991           -0.001520   \n",
              "PerformanceRating               0.003435            0.034986   \n",
              "RelationshipSatisfaction        0.019367           -0.015123   \n",
              "StockOptionLevel                0.015058            0.050818   \n",
              "TotalWorkingYears               0.628133            0.460365   \n",
              "TrainingTimesLastYear           0.003569           -0.005738   \n",
              "WorkLifeBalance                 0.012089            0.049856   \n",
              "YearsAtCompany                  1.000000            0.758754   \n",
              "YearsInCurrentRole              0.758754            1.000000   \n",
              "YearsSinceLastPromotion         0.618409            0.548056   \n",
              "YearsWithCurrManager            0.769212            0.714365   \n",
              "\n",
              "                          YearsSinceLastPromotion  YearsWithCurrManager  \n",
              "Age                                      0.216513              0.202089  \n",
              "DailyRate                               -0.033229             -0.026363  \n",
              "DistanceFromHome                         0.010029              0.014406  \n",
              "Education                                0.054254              0.069065  \n",
              "EnvironmentSatisfaction                  0.016194             -0.004999  \n",
              "HourlyRate                              -0.026716             -0.020123  \n",
              "JobInvolvement                          -0.024184              0.025976  \n",
              "JobLevel                                 0.353885              0.375281  \n",
              "JobSatisfaction                         -0.018214             -0.027656  \n",
              "MonthlyIncome                            0.344978              0.344079  \n",
              "MonthlyRate                              0.001567             -0.036746  \n",
              "NumCompaniesWorked                      -0.036814             -0.110319  \n",
              "PercentSalaryHike                       -0.022154             -0.011985  \n",
              "PerformanceRating                        0.017896              0.022827  \n",
              "RelationshipSatisfaction                 0.033493             -0.000867  \n",
              "StockOptionLevel                         0.014352              0.024698  \n",
              "TotalWorkingYears                        0.404858              0.459188  \n",
              "TrainingTimesLastYear                   -0.002067             -0.004096  \n",
              "WorkLifeBalance                          0.008941              0.002759  \n",
              "YearsAtCompany                           0.618409              0.769212  \n",
              "YearsInCurrentRole                       0.548056              0.714365  \n",
              "YearsSinceLastPromotion                  1.000000              0.510224  \n",
              "YearsWithCurrManager                     0.510224              1.000000  \n",
              "\n",
              "[23 rows x 23 columns]"
            ],
            "text/html": [
              "\n",
              "  <div id=\"df-409af2f5-7aab-4b58-b678-52296141abe6\">\n",
              "    <div class=\"colab-df-container\">\n",
              "      <div>\n",
              "<style scoped>\n",
              "    .dataframe tbody tr th:only-of-type {\n",
              "        vertical-align: middle;\n",
              "    }\n",
              "\n",
              "    .dataframe tbody tr th {\n",
              "        vertical-align: top;\n",
              "    }\n",
              "\n",
              "    .dataframe thead th {\n",
              "        text-align: right;\n",
              "    }\n",
              "</style>\n",
              "<table border=\"1\" class=\"dataframe\">\n",
              "  <thead>\n",
              "    <tr style=\"text-align: right;\">\n",
              "      <th></th>\n",
              "      <th>Age</th>\n",
              "      <th>DailyRate</th>\n",
              "      <th>DistanceFromHome</th>\n",
              "      <th>Education</th>\n",
              "      <th>EnvironmentSatisfaction</th>\n",
              "      <th>HourlyRate</th>\n",
              "      <th>JobInvolvement</th>\n",
              "      <th>JobLevel</th>\n",
              "      <th>JobSatisfaction</th>\n",
              "      <th>MonthlyIncome</th>\n",
              "      <th>...</th>\n",
              "      <th>PerformanceRating</th>\n",
              "      <th>RelationshipSatisfaction</th>\n",
              "      <th>StockOptionLevel</th>\n",
              "      <th>TotalWorkingYears</th>\n",
              "      <th>TrainingTimesLastYear</th>\n",
              "      <th>WorkLifeBalance</th>\n",
              "      <th>YearsAtCompany</th>\n",
              "      <th>YearsInCurrentRole</th>\n",
              "      <th>YearsSinceLastPromotion</th>\n",
              "      <th>YearsWithCurrManager</th>\n",
              "    </tr>\n",
              "  </thead>\n",
              "  <tbody>\n",
              "    <tr>\n",
              "      <th>Age</th>\n",
              "      <td>1.000000</td>\n",
              "      <td>0.010661</td>\n",
              "      <td>-0.001686</td>\n",
              "      <td>0.208034</td>\n",
              "      <td>0.010146</td>\n",
              "      <td>0.024287</td>\n",
              "      <td>0.029820</td>\n",
              "      <td>0.509604</td>\n",
              "      <td>-0.004892</td>\n",
              "      <td>0.497855</td>\n",
              "      <td>...</td>\n",
              "      <td>0.001904</td>\n",
              "      <td>0.053535</td>\n",
              "      <td>0.037510</td>\n",
              "      <td>0.680381</td>\n",
              "      <td>-0.019621</td>\n",
              "      <td>-0.021490</td>\n",
              "      <td>0.311309</td>\n",
              "      <td>0.212901</td>\n",
              "      <td>0.216513</td>\n",
              "      <td>0.202089</td>\n",
              "    </tr>\n",
              "    <tr>\n",
              "      <th>DailyRate</th>\n",
              "      <td>0.010661</td>\n",
              "      <td>1.000000</td>\n",
              "      <td>-0.004985</td>\n",
              "      <td>-0.016806</td>\n",
              "      <td>0.018355</td>\n",
              "      <td>0.023381</td>\n",
              "      <td>0.046135</td>\n",
              "      <td>0.002966</td>\n",
              "      <td>0.030571</td>\n",
              "      <td>0.007707</td>\n",
              "      <td>...</td>\n",
              "      <td>0.000473</td>\n",
              "      <td>0.007846</td>\n",
              "      <td>0.042143</td>\n",
              "      <td>0.014515</td>\n",
              "      <td>0.002453</td>\n",
              "      <td>-0.037848</td>\n",
              "      <td>-0.034055</td>\n",
              "      <td>0.009932</td>\n",
              "      <td>-0.033229</td>\n",
              "      <td>-0.026363</td>\n",
              "    </tr>\n",
              "    <tr>\n",
              "      <th>DistanceFromHome</th>\n",
              "      <td>-0.001686</td>\n",
              "      <td>-0.004985</td>\n",
              "      <td>1.000000</td>\n",
              "      <td>0.021042</td>\n",
              "      <td>-0.016075</td>\n",
              "      <td>0.031131</td>\n",
              "      <td>0.008783</td>\n",
              "      <td>0.005303</td>\n",
              "      <td>-0.003669</td>\n",
              "      <td>-0.017014</td>\n",
              "      <td>...</td>\n",
              "      <td>0.027110</td>\n",
              "      <td>0.006557</td>\n",
              "      <td>0.044872</td>\n",
              "      <td>0.004628</td>\n",
              "      <td>-0.036942</td>\n",
              "      <td>-0.026556</td>\n",
              "      <td>0.009508</td>\n",
              "      <td>0.018845</td>\n",
              "      <td>0.010029</td>\n",
              "      <td>0.014406</td>\n",
              "    </tr>\n",
              "    <tr>\n",
              "      <th>Education</th>\n",
              "      <td>0.208034</td>\n",
              "      <td>-0.016806</td>\n",
              "      <td>0.021042</td>\n",
              "      <td>1.000000</td>\n",
              "      <td>-0.027128</td>\n",
              "      <td>0.016775</td>\n",
              "      <td>0.042438</td>\n",
              "      <td>0.101589</td>\n",
              "      <td>-0.011296</td>\n",
              "      <td>0.094961</td>\n",
              "      <td>...</td>\n",
              "      <td>-0.024539</td>\n",
              "      <td>-0.009118</td>\n",
              "      <td>0.018422</td>\n",
              "      <td>0.148280</td>\n",
              "      <td>-0.025100</td>\n",
              "      <td>0.009819</td>\n",
              "      <td>0.069114</td>\n",
              "      <td>0.060236</td>\n",
              "      <td>0.054254</td>\n",
              "      <td>0.069065</td>\n",
              "    </tr>\n",
              "    <tr>\n",
              "      <th>EnvironmentSatisfaction</th>\n",
              "      <td>0.010146</td>\n",
              "      <td>0.018355</td>\n",
              "      <td>-0.016075</td>\n",
              "      <td>-0.027128</td>\n",
              "      <td>1.000000</td>\n",
              "      <td>-0.049857</td>\n",
              "      <td>-0.008278</td>\n",
              "      <td>0.001212</td>\n",
              "      <td>-0.006784</td>\n",
              "      <td>-0.006259</td>\n",
              "      <td>...</td>\n",
              "      <td>-0.029548</td>\n",
              "      <td>0.007665</td>\n",
              "      <td>0.003432</td>\n",
              "      <td>-0.002693</td>\n",
              "      <td>-0.019359</td>\n",
              "      <td>0.027627</td>\n",
              "      <td>0.001458</td>\n",
              "      <td>0.018007</td>\n",
              "      <td>0.016194</td>\n",
              "      <td>-0.004999</td>\n",
              "    </tr>\n",
              "    <tr>\n",
              "      <th>HourlyRate</th>\n",
              "      <td>0.024287</td>\n",
              "      <td>0.023381</td>\n",
              "      <td>0.031131</td>\n",
              "      <td>0.016775</td>\n",
              "      <td>-0.049857</td>\n",
              "      <td>1.000000</td>\n",
              "      <td>0.042861</td>\n",
              "      <td>-0.027853</td>\n",
              "      <td>-0.071335</td>\n",
              "      <td>-0.015794</td>\n",
              "      <td>...</td>\n",
              "      <td>-0.002172</td>\n",
              "      <td>0.001330</td>\n",
              "      <td>0.050263</td>\n",
              "      <td>-0.002334</td>\n",
              "      <td>-0.008548</td>\n",
              "      <td>-0.004607</td>\n",
              "      <td>-0.019582</td>\n",
              "      <td>-0.024106</td>\n",
              "      <td>-0.026716</td>\n",
              "      <td>-0.020123</td>\n",
              "    </tr>\n",
              "    <tr>\n",
              "      <th>JobInvolvement</th>\n",
              "      <td>0.029820</td>\n",
              "      <td>0.046135</td>\n",
              "      <td>0.008783</td>\n",
              "      <td>0.042438</td>\n",
              "      <td>-0.008278</td>\n",
              "      <td>0.042861</td>\n",
              "      <td>1.000000</td>\n",
              "      <td>-0.012630</td>\n",
              "      <td>-0.021476</td>\n",
              "      <td>-0.015271</td>\n",
              "      <td>...</td>\n",
              "      <td>-0.029071</td>\n",
              "      <td>0.034297</td>\n",
              "      <td>0.021523</td>\n",
              "      <td>-0.005533</td>\n",
              "      <td>-0.015338</td>\n",
              "      <td>-0.014617</td>\n",
              "      <td>-0.021355</td>\n",
              "      <td>0.008717</td>\n",
              "      <td>-0.024184</td>\n",
              "      <td>0.025976</td>\n",
              "    </tr>\n",
              "    <tr>\n",
              "      <th>JobLevel</th>\n",
              "      <td>0.509604</td>\n",
              "      <td>0.002966</td>\n",
              "      <td>0.005303</td>\n",
              "      <td>0.101589</td>\n",
              "      <td>0.001212</td>\n",
              "      <td>-0.027853</td>\n",
              "      <td>-0.012630</td>\n",
              "      <td>1.000000</td>\n",
              "      <td>-0.001944</td>\n",
              "      <td>0.950300</td>\n",
              "      <td>...</td>\n",
              "      <td>-0.021222</td>\n",
              "      <td>0.021642</td>\n",
              "      <td>0.013984</td>\n",
              "      <td>0.782208</td>\n",
              "      <td>-0.018191</td>\n",
              "      <td>0.037818</td>\n",
              "      <td>0.534739</td>\n",
              "      <td>0.389447</td>\n",
              "      <td>0.353885</td>\n",
              "      <td>0.375281</td>\n",
              "    </tr>\n",
              "    <tr>\n",
              "      <th>JobSatisfaction</th>\n",
              "      <td>-0.004892</td>\n",
              "      <td>0.030571</td>\n",
              "      <td>-0.003669</td>\n",
              "      <td>-0.011296</td>\n",
              "      <td>-0.006784</td>\n",
              "      <td>-0.071335</td>\n",
              "      <td>-0.021476</td>\n",
              "      <td>-0.001944</td>\n",
              "      <td>1.000000</td>\n",
              "      <td>-0.007157</td>\n",
              "      <td>...</td>\n",
              "      <td>0.002297</td>\n",
              "      <td>-0.012454</td>\n",
              "      <td>0.010690</td>\n",
              "      <td>-0.020185</td>\n",
              "      <td>-0.005779</td>\n",
              "      <td>-0.019459</td>\n",
              "      <td>-0.003803</td>\n",
              "      <td>-0.002305</td>\n",
              "      <td>-0.018214</td>\n",
              "      <td>-0.027656</td>\n",
              "    </tr>\n",
              "    <tr>\n",
              "      <th>MonthlyIncome</th>\n",
              "      <td>0.497855</td>\n",
              "      <td>0.007707</td>\n",
              "      <td>-0.017014</td>\n",
              "      <td>0.094961</td>\n",
              "      <td>-0.006259</td>\n",
              "      <td>-0.015794</td>\n",
              "      <td>-0.015271</td>\n",
              "      <td>0.950300</td>\n",
              "      <td>-0.007157</td>\n",
              "      <td>1.000000</td>\n",
              "      <td>...</td>\n",
              "      <td>-0.017120</td>\n",
              "      <td>0.025873</td>\n",
              "      <td>0.005408</td>\n",
              "      <td>0.772893</td>\n",
              "      <td>-0.021736</td>\n",
              "      <td>0.030683</td>\n",
              "      <td>0.514285</td>\n",
              "      <td>0.363818</td>\n",
              "      <td>0.344978</td>\n",
              "      <td>0.344079</td>\n",
              "    </tr>\n",
              "    <tr>\n",
              "      <th>MonthlyRate</th>\n",
              "      <td>0.028051</td>\n",
              "      <td>-0.032182</td>\n",
              "      <td>0.027473</td>\n",
              "      <td>-0.026084</td>\n",
              "      <td>0.037600</td>\n",
              "      <td>-0.015297</td>\n",
              "      <td>-0.016322</td>\n",
              "      <td>0.039563</td>\n",
              "      <td>0.000644</td>\n",
              "      <td>0.034814</td>\n",
              "      <td>...</td>\n",
              "      <td>-0.009811</td>\n",
              "      <td>-0.004085</td>\n",
              "      <td>-0.034323</td>\n",
              "      <td>0.026442</td>\n",
              "      <td>0.001467</td>\n",
              "      <td>0.007963</td>\n",
              "      <td>-0.023655</td>\n",
              "      <td>-0.012815</td>\n",
              "      <td>0.001567</td>\n",
              "      <td>-0.036746</td>\n",
              "    </tr>\n",
              "    <tr>\n",
              "      <th>NumCompaniesWorked</th>\n",
              "      <td>0.299635</td>\n",
              "      <td>0.038153</td>\n",
              "      <td>-0.029251</td>\n",
              "      <td>0.126317</td>\n",
              "      <td>0.012594</td>\n",
              "      <td>0.022157</td>\n",
              "      <td>0.015012</td>\n",
              "      <td>0.142501</td>\n",
              "      <td>-0.055699</td>\n",
              "      <td>0.149515</td>\n",
              "      <td>...</td>\n",
              "      <td>-0.014095</td>\n",
              "      <td>0.052733</td>\n",
              "      <td>0.030075</td>\n",
              "      <td>0.237639</td>\n",
              "      <td>-0.066054</td>\n",
              "      <td>-0.008366</td>\n",
              "      <td>-0.118421</td>\n",
              "      <td>-0.090754</td>\n",
              "      <td>-0.036814</td>\n",
              "      <td>-0.110319</td>\n",
              "    </tr>\n",
              "    <tr>\n",
              "      <th>PercentSalaryHike</th>\n",
              "      <td>0.003634</td>\n",
              "      <td>0.022704</td>\n",
              "      <td>0.040235</td>\n",
              "      <td>-0.011111</td>\n",
              "      <td>-0.031701</td>\n",
              "      <td>-0.009062</td>\n",
              "      <td>-0.017205</td>\n",
              "      <td>-0.034730</td>\n",
              "      <td>0.020002</td>\n",
              "      <td>-0.027269</td>\n",
              "      <td>...</td>\n",
              "      <td>0.773550</td>\n",
              "      <td>-0.040490</td>\n",
              "      <td>0.007528</td>\n",
              "      <td>-0.020608</td>\n",
              "      <td>-0.005221</td>\n",
              "      <td>-0.003280</td>\n",
              "      <td>-0.035991</td>\n",
              "      <td>-0.001520</td>\n",
              "      <td>-0.022154</td>\n",
              "      <td>-0.011985</td>\n",
              "    </tr>\n",
              "    <tr>\n",
              "      <th>PerformanceRating</th>\n",
              "      <td>0.001904</td>\n",
              "      <td>0.000473</td>\n",
              "      <td>0.027110</td>\n",
              "      <td>-0.024539</td>\n",
              "      <td>-0.029548</td>\n",
              "      <td>-0.002172</td>\n",
              "      <td>-0.029071</td>\n",
              "      <td>-0.021222</td>\n",
              "      <td>0.002297</td>\n",
              "      <td>-0.017120</td>\n",
              "      <td>...</td>\n",
              "      <td>1.000000</td>\n",
              "      <td>-0.031351</td>\n",
              "      <td>0.003506</td>\n",
              "      <td>0.006744</td>\n",
              "      <td>-0.015579</td>\n",
              "      <td>0.002572</td>\n",
              "      <td>0.003435</td>\n",
              "      <td>0.034986</td>\n",
              "      <td>0.017896</td>\n",
              "      <td>0.022827</td>\n",
              "    </tr>\n",
              "    <tr>\n",
              "      <th>RelationshipSatisfaction</th>\n",
              "      <td>0.053535</td>\n",
              "      <td>0.007846</td>\n",
              "      <td>0.006557</td>\n",
              "      <td>-0.009118</td>\n",
              "      <td>0.007665</td>\n",
              "      <td>0.001330</td>\n",
              "      <td>0.034297</td>\n",
              "      <td>0.021642</td>\n",
              "      <td>-0.012454</td>\n",
              "      <td>0.025873</td>\n",
              "      <td>...</td>\n",
              "      <td>-0.031351</td>\n",
              "      <td>1.000000</td>\n",
              "      <td>-0.045952</td>\n",
              "      <td>0.024054</td>\n",
              "      <td>0.002497</td>\n",
              "      <td>0.019604</td>\n",
              "      <td>0.019367</td>\n",
              "      <td>-0.015123</td>\n",
              "      <td>0.033493</td>\n",
              "      <td>-0.000867</td>\n",
              "    </tr>\n",
              "    <tr>\n",
              "      <th>StockOptionLevel</th>\n",
              "      <td>0.037510</td>\n",
              "      <td>0.042143</td>\n",
              "      <td>0.044872</td>\n",
              "      <td>0.018422</td>\n",
              "      <td>0.003432</td>\n",
              "      <td>0.050263</td>\n",
              "      <td>0.021523</td>\n",
              "      <td>0.013984</td>\n",
              "      <td>0.010690</td>\n",
              "      <td>0.005408</td>\n",
              "      <td>...</td>\n",
              "      <td>0.003506</td>\n",
              "      <td>-0.045952</td>\n",
              "      <td>1.000000</td>\n",
              "      <td>0.010136</td>\n",
              "      <td>0.011274</td>\n",
              "      <td>0.004129</td>\n",
              "      <td>0.015058</td>\n",
              "      <td>0.050818</td>\n",
              "      <td>0.014352</td>\n",
              "      <td>0.024698</td>\n",
              "    </tr>\n",
              "    <tr>\n",
              "      <th>TotalWorkingYears</th>\n",
              "      <td>0.680381</td>\n",
              "      <td>0.014515</td>\n",
              "      <td>0.004628</td>\n",
              "      <td>0.148280</td>\n",
              "      <td>-0.002693</td>\n",
              "      <td>-0.002334</td>\n",
              "      <td>-0.005533</td>\n",
              "      <td>0.782208</td>\n",
              "      <td>-0.020185</td>\n",
              "      <td>0.772893</td>\n",
              "      <td>...</td>\n",
              "      <td>0.006744</td>\n",
              "      <td>0.024054</td>\n",
              "      <td>0.010136</td>\n",
              "      <td>1.000000</td>\n",
              "      <td>-0.035662</td>\n",
              "      <td>0.001008</td>\n",
              "      <td>0.628133</td>\n",
              "      <td>0.460365</td>\n",
              "      <td>0.404858</td>\n",
              "      <td>0.459188</td>\n",
              "    </tr>\n",
              "    <tr>\n",
              "      <th>TrainingTimesLastYear</th>\n",
              "      <td>-0.019621</td>\n",
              "      <td>0.002453</td>\n",
              "      <td>-0.036942</td>\n",
              "      <td>-0.025100</td>\n",
              "      <td>-0.019359</td>\n",
              "      <td>-0.008548</td>\n",
              "      <td>-0.015338</td>\n",
              "      <td>-0.018191</td>\n",
              "      <td>-0.005779</td>\n",
              "      <td>-0.021736</td>\n",
              "      <td>...</td>\n",
              "      <td>-0.015579</td>\n",
              "      <td>0.002497</td>\n",
              "      <td>0.011274</td>\n",
              "      <td>-0.035662</td>\n",
              "      <td>1.000000</td>\n",
              "      <td>0.028072</td>\n",
              "      <td>0.003569</td>\n",
              "      <td>-0.005738</td>\n",
              "      <td>-0.002067</td>\n",
              "      <td>-0.004096</td>\n",
              "    </tr>\n",
              "    <tr>\n",
              "      <th>WorkLifeBalance</th>\n",
              "      <td>-0.021490</td>\n",
              "      <td>-0.037848</td>\n",
              "      <td>-0.026556</td>\n",
              "      <td>0.009819</td>\n",
              "      <td>0.027627</td>\n",
              "      <td>-0.004607</td>\n",
              "      <td>-0.014617</td>\n",
              "      <td>0.037818</td>\n",
              "      <td>-0.019459</td>\n",
              "      <td>0.030683</td>\n",
              "      <td>...</td>\n",
              "      <td>0.002572</td>\n",
              "      <td>0.019604</td>\n",
              "      <td>0.004129</td>\n",
              "      <td>0.001008</td>\n",
              "      <td>0.028072</td>\n",
              "      <td>1.000000</td>\n",
              "      <td>0.012089</td>\n",
              "      <td>0.049856</td>\n",
              "      <td>0.008941</td>\n",
              "      <td>0.002759</td>\n",
              "    </tr>\n",
              "    <tr>\n",
              "      <th>YearsAtCompany</th>\n",
              "      <td>0.311309</td>\n",
              "      <td>-0.034055</td>\n",
              "      <td>0.009508</td>\n",
              "      <td>0.069114</td>\n",
              "      <td>0.001458</td>\n",
              "      <td>-0.019582</td>\n",
              "      <td>-0.021355</td>\n",
              "      <td>0.534739</td>\n",
              "      <td>-0.003803</td>\n",
              "      <td>0.514285</td>\n",
              "      <td>...</td>\n",
              "      <td>0.003435</td>\n",
              "      <td>0.019367</td>\n",
              "      <td>0.015058</td>\n",
              "      <td>0.628133</td>\n",
              "      <td>0.003569</td>\n",
              "      <td>0.012089</td>\n",
              "      <td>1.000000</td>\n",
              "      <td>0.758754</td>\n",
              "      <td>0.618409</td>\n",
              "      <td>0.769212</td>\n",
              "    </tr>\n",
              "    <tr>\n",
              "      <th>YearsInCurrentRole</th>\n",
              "      <td>0.212901</td>\n",
              "      <td>0.009932</td>\n",
              "      <td>0.018845</td>\n",
              "      <td>0.060236</td>\n",
              "      <td>0.018007</td>\n",
              "      <td>-0.024106</td>\n",
              "      <td>0.008717</td>\n",
              "      <td>0.389447</td>\n",
              "      <td>-0.002305</td>\n",
              "      <td>0.363818</td>\n",
              "      <td>...</td>\n",
              "      <td>0.034986</td>\n",
              "      <td>-0.015123</td>\n",
              "      <td>0.050818</td>\n",
              "      <td>0.460365</td>\n",
              "      <td>-0.005738</td>\n",
              "      <td>0.049856</td>\n",
              "      <td>0.758754</td>\n",
              "      <td>1.000000</td>\n",
              "      <td>0.548056</td>\n",
              "      <td>0.714365</td>\n",
              "    </tr>\n",
              "    <tr>\n",
              "      <th>YearsSinceLastPromotion</th>\n",
              "      <td>0.216513</td>\n",
              "      <td>-0.033229</td>\n",
              "      <td>0.010029</td>\n",
              "      <td>0.054254</td>\n",
              "      <td>0.016194</td>\n",
              "      <td>-0.026716</td>\n",
              "      <td>-0.024184</td>\n",
              "      <td>0.353885</td>\n",
              "      <td>-0.018214</td>\n",
              "      <td>0.344978</td>\n",
              "      <td>...</td>\n",
              "      <td>0.017896</td>\n",
              "      <td>0.033493</td>\n",
              "      <td>0.014352</td>\n",
              "      <td>0.404858</td>\n",
              "      <td>-0.002067</td>\n",
              "      <td>0.008941</td>\n",
              "      <td>0.618409</td>\n",
              "      <td>0.548056</td>\n",
              "      <td>1.000000</td>\n",
              "      <td>0.510224</td>\n",
              "    </tr>\n",
              "    <tr>\n",
              "      <th>YearsWithCurrManager</th>\n",
              "      <td>0.202089</td>\n",
              "      <td>-0.026363</td>\n",
              "      <td>0.014406</td>\n",
              "      <td>0.069065</td>\n",
              "      <td>-0.004999</td>\n",
              "      <td>-0.020123</td>\n",
              "      <td>0.025976</td>\n",
              "      <td>0.375281</td>\n",
              "      <td>-0.027656</td>\n",
              "      <td>0.344079</td>\n",
              "      <td>...</td>\n",
              "      <td>0.022827</td>\n",
              "      <td>-0.000867</td>\n",
              "      <td>0.024698</td>\n",
              "      <td>0.459188</td>\n",
              "      <td>-0.004096</td>\n",
              "      <td>0.002759</td>\n",
              "      <td>0.769212</td>\n",
              "      <td>0.714365</td>\n",
              "      <td>0.510224</td>\n",
              "      <td>1.000000</td>\n",
              "    </tr>\n",
              "  </tbody>\n",
              "</table>\n",
              "<p>23 rows × 23 columns</p>\n",
              "</div>\n",
              "      <button class=\"colab-df-convert\" onclick=\"convertToInteractive('df-409af2f5-7aab-4b58-b678-52296141abe6')\"\n",
              "              title=\"Convert this dataframe to an interactive table.\"\n",
              "              style=\"display:none;\">\n",
              "        \n",
              "  <svg xmlns=\"http://www.w3.org/2000/svg\" height=\"24px\"viewBox=\"0 0 24 24\"\n",
              "       width=\"24px\">\n",
              "    <path d=\"M0 0h24v24H0V0z\" fill=\"none\"/>\n",
              "    <path d=\"M18.56 5.44l.94 2.06.94-2.06 2.06-.94-2.06-.94-.94-2.06-.94 2.06-2.06.94zm-11 1L8.5 8.5l.94-2.06 2.06-.94-2.06-.94L8.5 2.5l-.94 2.06-2.06.94zm10 10l.94 2.06.94-2.06 2.06-.94-2.06-.94-.94-2.06-.94 2.06-2.06.94z\"/><path d=\"M17.41 7.96l-1.37-1.37c-.4-.4-.92-.59-1.43-.59-.52 0-1.04.2-1.43.59L10.3 9.45l-7.72 7.72c-.78.78-.78 2.05 0 2.83L4 21.41c.39.39.9.59 1.41.59.51 0 1.02-.2 1.41-.59l7.78-7.78 2.81-2.81c.8-.78.8-2.07 0-2.86zM5.41 20L4 18.59l7.72-7.72 1.47 1.35L5.41 20z\"/>\n",
              "  </svg>\n",
              "      </button>\n",
              "      \n",
              "  <style>\n",
              "    .colab-df-container {\n",
              "      display:flex;\n",
              "      flex-wrap:wrap;\n",
              "      gap: 12px;\n",
              "    }\n",
              "\n",
              "    .colab-df-convert {\n",
              "      background-color: #E8F0FE;\n",
              "      border: none;\n",
              "      border-radius: 50%;\n",
              "      cursor: pointer;\n",
              "      display: none;\n",
              "      fill: #1967D2;\n",
              "      height: 32px;\n",
              "      padding: 0 0 0 0;\n",
              "      width: 32px;\n",
              "    }\n",
              "\n",
              "    .colab-df-convert:hover {\n",
              "      background-color: #E2EBFA;\n",
              "      box-shadow: 0px 1px 2px rgba(60, 64, 67, 0.3), 0px 1px 3px 1px rgba(60, 64, 67, 0.15);\n",
              "      fill: #174EA6;\n",
              "    }\n",
              "\n",
              "    [theme=dark] .colab-df-convert {\n",
              "      background-color: #3B4455;\n",
              "      fill: #D2E3FC;\n",
              "    }\n",
              "\n",
              "    [theme=dark] .colab-df-convert:hover {\n",
              "      background-color: #434B5C;\n",
              "      box-shadow: 0px 1px 3px 1px rgba(0, 0, 0, 0.15);\n",
              "      filter: drop-shadow(0px 1px 2px rgba(0, 0, 0, 0.3));\n",
              "      fill: #FFFFFF;\n",
              "    }\n",
              "  </style>\n",
              "\n",
              "      <script>\n",
              "        const buttonEl =\n",
              "          document.querySelector('#df-409af2f5-7aab-4b58-b678-52296141abe6 button.colab-df-convert');\n",
              "        buttonEl.style.display =\n",
              "          google.colab.kernel.accessAllowed ? 'block' : 'none';\n",
              "\n",
              "        async function convertToInteractive(key) {\n",
              "          const element = document.querySelector('#df-409af2f5-7aab-4b58-b678-52296141abe6');\n",
              "          const dataTable =\n",
              "            await google.colab.kernel.invokeFunction('convertToInteractive',\n",
              "                                                     [key], {});\n",
              "          if (!dataTable) return;\n",
              "\n",
              "          const docLinkHtml = 'Like what you see? Visit the ' +\n",
              "            '<a target=\"_blank\" href=https://colab.research.google.com/notebooks/data_table.ipynb>data table notebook</a>'\n",
              "            + ' to learn more about interactive tables.';\n",
              "          element.innerHTML = '';\n",
              "          dataTable['output_type'] = 'display_data';\n",
              "          await google.colab.output.renderOutput(dataTable, element);\n",
              "          const docLink = document.createElement('div');\n",
              "          docLink.innerHTML = docLinkHtml;\n",
              "          element.appendChild(docLink);\n",
              "        }\n",
              "      </script>\n",
              "    </div>\n",
              "  </div>\n",
              "  "
            ]
          },
          "metadata": {},
          "execution_count": 72
        }
      ]
    },
    {
      "cell_type": "markdown",
      "source": [
        "### Visualizing the correlation "
      ],
      "metadata": {
        "id": "fyhCMBa6ZwA6"
      }
    },
    {
      "cell_type": "code",
      "source": [
        "plt.figure(figsize=(14,14))\n",
        "sns.heatmap(data.corr(),annot=True, fmt = '.0%', cmap=\"YlGnBu\")"
      ],
      "metadata": {
        "colab": {
          "base_uri": "https://localhost:8080/",
          "height": 945
        },
        "id": "qX3CDmdFYcRK",
        "outputId": "80720d33-afb0-4364-ae75-c764a69b2687"
      },
      "execution_count": null,
      "outputs": [
        {
          "output_type": "execute_result",
          "data": {
            "text/plain": [
              "<matplotlib.axes._subplots.AxesSubplot at 0x7f48d0c65910>"
            ]
          },
          "metadata": {},
          "execution_count": 73
        },
        {
          "output_type": "display_data",
          "data": {
            "text/plain": [
              "<Figure size 1008x1008 with 2 Axes>"
            ],
            "image/png": "[encoded data removed]"
          },
          "metadata": {
            "needs_background": "light"
          }
        }
      ]
    },
    {
      "cell_type": "markdown",
      "source": [
        "### **Conclusions :**  \n",
        "### From the above heatmap, some insights are drawn --\n",
        "### *   78% ---> more years of working, higher will the level of job\n",
        "### *   77% ---> more years of working, higher will be the monthly income\n",
        "### *   95% ---> higher the job level, more will the monthly income\n",
        "\n",
        "---\n",
        "\n",
        "\n",
        "\n",
        "---\n",
        "\n",
        "\n"
      ],
      "metadata": {
        "id": "8qexUADiaPCl"
      }
    },
    {
      "cell_type": "markdown",
      "source": [
        "### Transforming the non-numerical columns to numerical columns"
      ],
      "metadata": {
        "id": "BaJ5HcmHb7RX"
      }
    },
    {
      "cell_type": "code",
      "source": [
        "from sklearn.preprocessing import LabelEncoder\n",
        "\n",
        "for column in data.columns:\n",
        "  if data[column].dtype == np.number:\n",
        "    continue\n",
        "  data[column] = LabelEncoder().fit_transform(data[column]) "
      ],
      "metadata": {
        "colab": {
          "base_uri": "https://localhost:8080/"
        },
        "id": "iEXleCNGa3m-",
        "outputId": "10aaadc9-0520-48a3-ff13-47c5de7ab825"
      },
      "execution_count": null,
      "outputs": [
        {
          "output_type": "stream",
          "name": "stderr",
          "text": [
            "/usr/local/lib/python3.7/dist-packages/ipykernel_launcher.py:4: DeprecationWarning: Converting `np.inexact` or `np.floating` to a dtype is deprecated. The current result is `float64` which is not strictly correct.\n",
            "  after removing the cwd from sys.path.\n"
          ]
        }
      ]
    },
    {
      "cell_type": "markdown",
      "source": [
        "### Creating a new column for 'Age' as 'Age_Years' for the ease of splitting the data according to attrition"
      ],
      "metadata": {
        "id": "_DmyaI3jcRtI"
      }
    },
    {
      "cell_type": "code",
      "source": [
        "data['Age_Years'] = data['Age']"
      ],
      "metadata": {
        "id": "XGKvqL_7bonO"
      },
      "execution_count": null,
      "outputs": []
    },
    {
      "cell_type": "markdown",
      "source": [
        "### Dropping the 'Age' column"
      ],
      "metadata": {
        "id": "TT1er88wckxp"
      }
    },
    {
      "cell_type": "code",
      "source": [
        "data = data.drop('Age',axis=1)"
      ],
      "metadata": {
        "id": "SIpo6AEeb09_"
      },
      "execution_count": null,
      "outputs": []
    },
    {
      "cell_type": "code",
      "source": [
        "data"
      ],
      "metadata": {
        "colab": {
          "base_uri": "https://localhost:8080/",
          "height": 488
        },
        "id": "x5yMAXhZb7Tb",
        "outputId": "1254417d-aa4f-464c-a06e-c99b62781cf9"
      },
      "execution_count": null,
      "outputs": [
        {
          "output_type": "execute_result",
          "data": {
            "text/plain": [
              "      Attrition  BusinessTravel  DailyRate  Department  DistanceFromHome  \\\n",
              "0             1               2        624           2                 0   \n",
              "1             0               1        113           1                 7   \n",
              "2             1               2        805           1                 1   \n",
              "3             0               1        820           1                 2   \n",
              "4             0               2        312           1                 1   \n",
              "...         ...             ...        ...         ...               ...   \n",
              "1465          0               1        494           1                22   \n",
              "1466          0               2        327           1                 5   \n",
              "1467          0               2         39           1                 3   \n",
              "1468          0               1        579           2                 1   \n",
              "1469          0               2        336           1                 7   \n",
              "\n",
              "      Education  EducationField  EnvironmentSatisfaction  Gender  HourlyRate  \\\n",
              "0             1               1                        1       0          64   \n",
              "1             0               1                        2       1          31   \n",
              "2             1               4                        3       1          62   \n",
              "3             3               1                        3       0          26   \n",
              "4             0               3                        0       1          10   \n",
              "...         ...             ...                      ...     ...         ...   \n",
              "1465          1               3                        2       1          11   \n",
              "1466          0               3                        3       1          12   \n",
              "1467          2               1                        1       1          57   \n",
              "1468          2               3                        3       1          33   \n",
              "1469          2               3                        1       1          52   \n",
              "\n",
              "      ...  RelationshipSatisfaction  StockOptionLevel  TotalWorkingYears  \\\n",
              "0     ...                         0                 0                  8   \n",
              "1     ...                         3                 1                 10   \n",
              "2     ...                         1                 0                  7   \n",
              "3     ...                         2                 0                  8   \n",
              "4     ...                         3                 1                  6   \n",
              "...   ...                       ...               ...                ...   \n",
              "1465  ...                         2                 1                 17   \n",
              "1466  ...                         0                 1                  9   \n",
              "1467  ...                         1                 1                  6   \n",
              "1468  ...                         3                 0                 17   \n",
              "1469  ...                         0                 0                  6   \n",
              "\n",
              "      TrainingTimesLastYear  WorkLifeBalance  YearsAtCompany  \\\n",
              "0                         0                0               6   \n",
              "1                         3                2              10   \n",
              "2                         3                2               0   \n",
              "3                         3                2               8   \n",
              "4                         3                2               2   \n",
              "...                     ...              ...             ...   \n",
              "1465                      3                2               5   \n",
              "1466                      5                2               7   \n",
              "1467                      0                2               6   \n",
              "1468                      3                1               9   \n",
              "1469                      3                3               4   \n",
              "\n",
              "      YearsInCurrentRole  YearsSinceLastPromotion  YearsWithCurrManager  \\\n",
              "0                      4                        0                     5   \n",
              "1                      7                        1                     7   \n",
              "2                      0                        0                     0   \n",
              "3                      7                        3                     0   \n",
              "4                      2                        2                     2   \n",
              "...                  ...                      ...                   ...   \n",
              "1465                   2                        0                     3   \n",
              "1466                   7                        1                     7   \n",
              "1467                   2                        0                     3   \n",
              "1468                   6                        0                     8   \n",
              "1469                   3                        1                     2   \n",
              "\n",
              "      Age_Years  \n",
              "0            23  \n",
              "1            31  \n",
              "2            19  \n",
              "3            15  \n",
              "4             9  \n",
              "...         ...  \n",
              "1465         18  \n",
              "1466         21  \n",
              "1467          9  \n",
              "1468         31  \n",
              "1469         16  \n",
              "\n",
              "[1470 rows x 31 columns]"
            ],
            "text/html": [
              "\n",
              "  <div id=\"df-284b6a47-3b17-454a-a8f3-c20b893d5ffd\">\n",
              "    <div class=\"colab-df-container\">\n",
              "      <div>\n",
              "<style scoped>\n",
              "    .dataframe tbody tr th:only-of-type {\n",
              "        vertical-align: middle;\n",
              "    }\n",
              "\n",
              "    .dataframe tbody tr th {\n",
              "        vertical-align: top;\n",
              "    }\n",
              "\n",
              "    .dataframe thead th {\n",
              "        text-align: right;\n",
              "    }\n",
              "</style>\n",
              "<table border=\"1\" class=\"dataframe\">\n",
              "  <thead>\n",
              "    <tr style=\"text-align: right;\">\n",
              "      <th></th>\n",
              "      <th>Attrition</th>\n",
              "      <th>BusinessTravel</th>\n",
              "      <th>DailyRate</th>\n",
              "      <th>Department</th>\n",
              "      <th>DistanceFromHome</th>\n",
              "      <th>Education</th>\n",
              "      <th>EducationField</th>\n",
              "      <th>EnvironmentSatisfaction</th>\n",
              "      <th>Gender</th>\n",
              "      <th>HourlyRate</th>\n",
              "      <th>...</th>\n",
              "      <th>RelationshipSatisfaction</th>\n",
              "      <th>StockOptionLevel</th>\n",
              "      <th>TotalWorkingYears</th>\n",
              "      <th>TrainingTimesLastYear</th>\n",
              "      <th>WorkLifeBalance</th>\n",
              "      <th>YearsAtCompany</th>\n",
              "      <th>YearsInCurrentRole</th>\n",
              "      <th>YearsSinceLastPromotion</th>\n",
              "      <th>YearsWithCurrManager</th>\n",
              "      <th>Age_Years</th>\n",
              "    </tr>\n",
              "  </thead>\n",
              "  <tbody>\n",
              "    <tr>\n",
              "      <th>0</th>\n",
              "      <td>1</td>\n",
              "      <td>2</td>\n",
              "      <td>624</td>\n",
              "      <td>2</td>\n",
              "      <td>0</td>\n",
              "      <td>1</td>\n",
              "      <td>1</td>\n",
              "      <td>1</td>\n",
              "      <td>0</td>\n",
              "      <td>64</td>\n",
              "      <td>...</td>\n",
              "      <td>0</td>\n",
              "      <td>0</td>\n",
              "      <td>8</td>\n",
              "      <td>0</td>\n",
              "      <td>0</td>\n",
              "      <td>6</td>\n",
              "      <td>4</td>\n",
              "      <td>0</td>\n",
              "      <td>5</td>\n",
              "      <td>23</td>\n",
              "    </tr>\n",
              "    <tr>\n",
              "      <th>1</th>\n",
              "      <td>0</td>\n",
              "      <td>1</td>\n",
              "      <td>113</td>\n",
              "      <td>1</td>\n",
              "      <td>7</td>\n",
              "      <td>0</td>\n",
              "      <td>1</td>\n",
              "      <td>2</td>\n",
              "      <td>1</td>\n",
              "      <td>31</td>\n",
              "      <td>...</td>\n",
              "      <td>3</td>\n",
              "      <td>1</td>\n",
              "      <td>10</td>\n",
              "      <td>3</td>\n",
              "      <td>2</td>\n",
              "      <td>10</td>\n",
              "      <td>7</td>\n",
              "      <td>1</td>\n",
              "      <td>7</td>\n",
              "      <td>31</td>\n",
              "    </tr>\n",
              "    <tr>\n",
              "      <th>2</th>\n",
              "      <td>1</td>\n",
              "      <td>2</td>\n",
              "      <td>805</td>\n",
              "      <td>1</td>\n",
              "      <td>1</td>\n",
              "      <td>1</td>\n",
              "      <td>4</td>\n",
              "      <td>3</td>\n",
              "      <td>1</td>\n",
              "      <td>62</td>\n",
              "      <td>...</td>\n",
              "      <td>1</td>\n",
              "      <td>0</td>\n",
              "      <td>7</td>\n",
              "      <td>3</td>\n",
              "      <td>2</td>\n",
              "      <td>0</td>\n",
              "      <td>0</td>\n",
              "      <td>0</td>\n",
              "      <td>0</td>\n",
              "      <td>19</td>\n",
              "    </tr>\n",
              "    <tr>\n",
              "      <th>3</th>\n",
              "      <td>0</td>\n",
              "      <td>1</td>\n",
              "      <td>820</td>\n",
              "      <td>1</td>\n",
              "      <td>2</td>\n",
              "      <td>3</td>\n",
              "      <td>1</td>\n",
              "      <td>3</td>\n",
              "      <td>0</td>\n",
              "      <td>26</td>\n",
              "      <td>...</td>\n",
              "      <td>2</td>\n",
              "      <td>0</td>\n",
              "      <td>8</td>\n",
              "      <td>3</td>\n",
              "      <td>2</td>\n",
              "      <td>8</td>\n",
              "      <td>7</td>\n",
              "      <td>3</td>\n",
              "      <td>0</td>\n",
              "      <td>15</td>\n",
              "    </tr>\n",
              "    <tr>\n",
              "      <th>4</th>\n",
              "      <td>0</td>\n",
              "      <td>2</td>\n",
              "      <td>312</td>\n",
              "      <td>1</td>\n",
              "      <td>1</td>\n",
              "      <td>0</td>\n",
              "      <td>3</td>\n",
              "      <td>0</td>\n",
              "      <td>1</td>\n",
              "      <td>10</td>\n",
              "      <td>...</td>\n",
              "      <td>3</td>\n",
              "      <td>1</td>\n",
              "      <td>6</td>\n",
              "      <td>3</td>\n",
              "      <td>2</td>\n",
              "      <td>2</td>\n",
              "      <td>2</td>\n",
              "      <td>2</td>\n",
              "      <td>2</td>\n",
              "      <td>9</td>\n",
              "    </tr>\n",
              "    <tr>\n",
              "      <th>...</th>\n",
              "      <td>...</td>\n",
              "      <td>...</td>\n",
              "      <td>...</td>\n",
              "      <td>...</td>\n",
              "      <td>...</td>\n",
              "      <td>...</td>\n",
              "      <td>...</td>\n",
              "      <td>...</td>\n",
              "      <td>...</td>\n",
              "      <td>...</td>\n",
              "      <td>...</td>\n",
              "      <td>...</td>\n",
              "      <td>...</td>\n",
              "      <td>...</td>\n",
              "      <td>...</td>\n",
              "      <td>...</td>\n",
              "      <td>...</td>\n",
              "      <td>...</td>\n",
              "      <td>...</td>\n",
              "      <td>...</td>\n",
              "      <td>...</td>\n",
              "    </tr>\n",
              "    <tr>\n",
              "      <th>1465</th>\n",
              "      <td>0</td>\n",
              "      <td>1</td>\n",
              "      <td>494</td>\n",
              "      <td>1</td>\n",
              "      <td>22</td>\n",
              "      <td>1</td>\n",
              "      <td>3</td>\n",
              "      <td>2</td>\n",
              "      <td>1</td>\n",
              "      <td>11</td>\n",
              "      <td>...</td>\n",
              "      <td>2</td>\n",
              "      <td>1</td>\n",
              "      <td>17</td>\n",
              "      <td>3</td>\n",
              "      <td>2</td>\n",
              "      <td>5</td>\n",
              "      <td>2</td>\n",
              "      <td>0</td>\n",
              "      <td>3</td>\n",
              "      <td>18</td>\n",
              "    </tr>\n",
              "    <tr>\n",
              "      <th>1466</th>\n",
              "      <td>0</td>\n",
              "      <td>2</td>\n",
              "      <td>327</td>\n",
              "      <td>1</td>\n",
              "      <td>5</td>\n",
              "      <td>0</td>\n",
              "      <td>3</td>\n",
              "      <td>3</td>\n",
              "      <td>1</td>\n",
              "      <td>12</td>\n",
              "      <td>...</td>\n",
              "      <td>0</td>\n",
              "      <td>1</td>\n",
              "      <td>9</td>\n",
              "      <td>5</td>\n",
              "      <td>2</td>\n",
              "      <td>7</td>\n",
              "      <td>7</td>\n",
              "      <td>1</td>\n",
              "      <td>7</td>\n",
              "      <td>21</td>\n",
              "    </tr>\n",
              "    <tr>\n",
              "      <th>1467</th>\n",
              "      <td>0</td>\n",
              "      <td>2</td>\n",
              "      <td>39</td>\n",
              "      <td>1</td>\n",
              "      <td>3</td>\n",
              "      <td>2</td>\n",
              "      <td>1</td>\n",
              "      <td>1</td>\n",
              "      <td>1</td>\n",
              "      <td>57</td>\n",
              "      <td>...</td>\n",
              "      <td>1</td>\n",
              "      <td>1</td>\n",
              "      <td>6</td>\n",
              "      <td>0</td>\n",
              "      <td>2</td>\n",
              "      <td>6</td>\n",
              "      <td>2</td>\n",
              "      <td>0</td>\n",
              "      <td>3</td>\n",
              "      <td>9</td>\n",
              "    </tr>\n",
              "    <tr>\n",
              "      <th>1468</th>\n",
              "      <td>0</td>\n",
              "      <td>1</td>\n",
              "      <td>579</td>\n",
              "      <td>2</td>\n",
              "      <td>1</td>\n",
              "      <td>2</td>\n",
              "      <td>3</td>\n",
              "      <td>3</td>\n",
              "      <td>1</td>\n",
              "      <td>33</td>\n",
              "      <td>...</td>\n",
              "      <td>3</td>\n",
              "      <td>0</td>\n",
              "      <td>17</td>\n",
              "      <td>3</td>\n",
              "      <td>1</td>\n",
              "      <td>9</td>\n",
              "      <td>6</td>\n",
              "      <td>0</td>\n",
              "      <td>8</td>\n",
              "      <td>31</td>\n",
              "    </tr>\n",
              "    <tr>\n",
              "      <th>1469</th>\n",
              "      <td>0</td>\n",
              "      <td>2</td>\n",
              "      <td>336</td>\n",
              "      <td>1</td>\n",
              "      <td>7</td>\n",
              "      <td>2</td>\n",
              "      <td>3</td>\n",
              "      <td>1</td>\n",
              "      <td>1</td>\n",
              "      <td>52</td>\n",
              "      <td>...</td>\n",
              "      <td>0</td>\n",
              "      <td>0</td>\n",
              "      <td>6</td>\n",
              "      <td>3</td>\n",
              "      <td>3</td>\n",
              "      <td>4</td>\n",
              "      <td>3</td>\n",
              "      <td>1</td>\n",
              "      <td>2</td>\n",
              "      <td>16</td>\n",
              "    </tr>\n",
              "  </tbody>\n",
              "</table>\n",
              "<p>1470 rows × 31 columns</p>\n",
              "</div>\n",
              "      <button class=\"colab-df-convert\" onclick=\"convertToInteractive('df-284b6a47-3b17-454a-a8f3-c20b893d5ffd')\"\n",
              "              title=\"Convert this dataframe to an interactive table.\"\n",
              "              style=\"display:none;\">\n",
              "        \n",
              "  <svg xmlns=\"http://www.w3.org/2000/svg\" height=\"24px\"viewBox=\"0 0 24 24\"\n",
              "       width=\"24px\">\n",
              "    <path d=\"M0 0h24v24H0V0z\" fill=\"none\"/>\n",
              "    <path d=\"M18.56 5.44l.94 2.06.94-2.06 2.06-.94-2.06-.94-.94-2.06-.94 2.06-2.06.94zm-11 1L8.5 8.5l.94-2.06 2.06-.94-2.06-.94L8.5 2.5l-.94 2.06-2.06.94zm10 10l.94 2.06.94-2.06 2.06-.94-2.06-.94-.94-2.06-.94 2.06-2.06.94z\"/><path d=\"M17.41 7.96l-1.37-1.37c-.4-.4-.92-.59-1.43-.59-.52 0-1.04.2-1.43.59L10.3 9.45l-7.72 7.72c-.78.78-.78 2.05 0 2.83L4 21.41c.39.39.9.59 1.41.59.51 0 1.02-.2 1.41-.59l7.78-7.78 2.81-2.81c.8-.78.8-2.07 0-2.86zM5.41 20L4 18.59l7.72-7.72 1.47 1.35L5.41 20z\"/>\n",
              "  </svg>\n",
              "      </button>\n",
              "      \n",
              "  <style>\n",
              "    .colab-df-container {\n",
              "      display:flex;\n",
              "      flex-wrap:wrap;\n",
              "      gap: 12px;\n",
              "    }\n",
              "\n",
              "    .colab-df-convert {\n",
              "      background-color: #E8F0FE;\n",
              "      border: none;\n",
              "      border-radius: 50%;\n",
              "      cursor: pointer;\n",
              "      display: none;\n",
              "      fill: #1967D2;\n",
              "      height: 32px;\n",
              "      padding: 0 0 0 0;\n",
              "      width: 32px;\n",
              "    }\n",
              "\n",
              "    .colab-df-convert:hover {\n",
              "      background-color: #E2EBFA;\n",
              "      box-shadow: 0px 1px 2px rgba(60, 64, 67, 0.3), 0px 1px 3px 1px rgba(60, 64, 67, 0.15);\n",
              "      fill: #174EA6;\n",
              "    }\n",
              "\n",
              "    [theme=dark] .colab-df-convert {\n",
              "      background-color: #3B4455;\n",
              "      fill: #D2E3FC;\n",
              "    }\n",
              "\n",
              "    [theme=dark] .colab-df-convert:hover {\n",
              "      background-color: #434B5C;\n",
              "      box-shadow: 0px 1px 3px 1px rgba(0, 0, 0, 0.15);\n",
              "      filter: drop-shadow(0px 1px 2px rgba(0, 0, 0, 0.3));\n",
              "      fill: #FFFFFF;\n",
              "    }\n",
              "  </style>\n",
              "\n",
              "      <script>\n",
              "        const buttonEl =\n",
              "          document.querySelector('#df-284b6a47-3b17-454a-a8f3-c20b893d5ffd button.colab-df-convert');\n",
              "        buttonEl.style.display =\n",
              "          google.colab.kernel.accessAllowed ? 'block' : 'none';\n",
              "\n",
              "        async function convertToInteractive(key) {\n",
              "          const element = document.querySelector('#df-284b6a47-3b17-454a-a8f3-c20b893d5ffd');\n",
              "          const dataTable =\n",
              "            await google.colab.kernel.invokeFunction('convertToInteractive',\n",
              "                                                     [key], {});\n",
              "          if (!dataTable) return;\n",
              "\n",
              "          const docLinkHtml = 'Like what you see? Visit the ' +\n",
              "            '<a target=\"_blank\" href=https://colab.research.google.com/notebooks/data_table.ipynb>data table notebook</a>'\n",
              "            + ' to learn more about interactive tables.';\n",
              "          element.innerHTML = '';\n",
              "          dataTable['output_type'] = 'display_data';\n",
              "          await google.colab.output.renderOutput(dataTable, element);\n",
              "          const docLink = document.createElement('div');\n",
              "          docLink.innerHTML = docLinkHtml;\n",
              "          element.appendChild(docLink);\n",
              "        }\n",
              "      </script>\n",
              "    </div>\n",
              "  </div>\n",
              "  "
            ]
          },
          "metadata": {},
          "execution_count": 77
        }
      ]
    },
    {
      "cell_type": "markdown",
      "source": [
        "### Splitting the data by 'Attrition'"
      ],
      "metadata": {
        "id": "BpT3C8NieTo3"
      }
    },
    {
      "cell_type": "code",
      "source": [
        "X = data.iloc[:,1:data.shape[1]].values\n",
        "Y = data.iloc[:,0].values"
      ],
      "metadata": {
        "id": "b7rEfe6pccL7"
      },
      "execution_count": null,
      "outputs": []
    },
    {
      "cell_type": "markdown",
      "source": [
        "### Splitting the data into 75% training and 25% testing"
      ],
      "metadata": {
        "id": "KJMqrtkAebon"
      }
    },
    {
      "cell_type": "code",
      "source": [
        "from sklearn.model_selection import train_test_split\n",
        "X_train, X_test, Y_train, Y_test = train_test_split(X, Y, test_size = 0.25, random_state = 0)"
      ],
      "metadata": {
        "id": "f00SFBLbcxZc"
      },
      "execution_count": null,
      "outputs": []
    },
    {
      "cell_type": "markdown",
      "source": [
        "### Guessing the accuracy before using any model"
      ],
      "metadata": {
        "id": "iT_5GuAMer7T"
      }
    },
    {
      "cell_type": "code",
      "source": [
        "((1233 - 237)/1233) * 100"
      ],
      "metadata": {
        "colab": {
          "base_uri": "https://localhost:8080/"
        },
        "id": "ODx1CcSnSr3B",
        "outputId": "c943a8d0-e52c-4757-afdb-bb4dc5455f53"
      },
      "execution_count": null,
      "outputs": [
        {
          "output_type": "execute_result",
          "data": {
            "text/plain": [
              "80.7785888077859"
            ]
          },
          "metadata": {},
          "execution_count": 108
        }
      ]
    },
    {
      "cell_type": "markdown",
      "source": [
        "## **Picking the following 3 models for the prediction of Attrition**"
      ],
      "metadata": {
        "id": "XPlSAvN3fd5B"
      }
    },
    {
      "cell_type": "markdown",
      "source": [
        "## 1.) Random Forest Classifier"
      ],
      "metadata": {
        "id": "A2GbH173e4sn"
      }
    },
    {
      "cell_type": "code",
      "source": [
        "from sklearn.ensemble import RandomForestClassifier\n",
        "forest = RandomForestClassifier(n_estimators = 10, criterion = 'entropy', random_state = 0)\n",
        "forest.fit(X_train, Y_train)"
      ],
      "metadata": {
        "colab": {
          "base_uri": "https://localhost:8080/"
        },
        "id": "-8w83O4JdR5a",
        "outputId": "1dbdd7e3-9c13-4952-ac03-40e2c1ab86c5"
      },
      "execution_count": null,
      "outputs": [
        {
          "output_type": "execute_result",
          "data": {
            "text/plain": [
              "RandomForestClassifier(criterion='entropy', n_estimators=10, random_state=0)"
            ]
          },
          "metadata": {},
          "execution_count": 81
        }
      ]
    },
    {
      "cell_type": "code",
      "source": [
        "y_pred = np.round(forest.predict(X_test)).astype(int)"
      ],
      "metadata": {
        "id": "FLUbAJ0b-5gp"
      },
      "execution_count": null,
      "outputs": []
    },
    {
      "cell_type": "markdown",
      "source": [
        "### Obtaining the accuracy for training data"
      ],
      "metadata": {
        "id": "nwVkLxKQfJxc"
      }
    },
    {
      "cell_type": "code",
      "source": [
        "forest.score(X_train, Y_train)"
      ],
      "metadata": {
        "colab": {
          "base_uri": "https://localhost:8080/"
        },
        "id": "6bosibzrd4KH",
        "outputId": "9d6f5689-2b80-4500-d463-be5478bf23f0"
      },
      "execution_count": null,
      "outputs": [
        {
          "output_type": "execute_result",
          "data": {
            "text/plain": [
              "0.9791288566243194"
            ]
          },
          "metadata": {},
          "execution_count": 83
        }
      ]
    },
    {
      "cell_type": "markdown",
      "source": [
        "### Showing the Confusion Matrix and Accuracy Score for the model on the test data"
      ],
      "metadata": {
        "id": "uj0n3R2ff-yc"
      }
    },
    {
      "cell_type": "code",
      "source": [
        "from sklearn.metrics import confusion_matrix, ConfusionMatrixDisplay\n",
        "\n",
        "cm = confusion_matrix(Y_test, forest.predict(X_test))\n",
        "\n",
        "TN = cm[0][0]\n",
        "TP = cm[1][1]\n",
        "FN = cm[1][0]\n",
        "FP = cm[0][1]\n",
        "\n",
        "print(cm)\n",
        "print('Model Testing Accuracy = {}'.format((TP +TN) / (TP + TN + FN + FP)))"
      ],
      "metadata": {
        "colab": {
          "base_uri": "https://localhost:8080/"
        },
        "id": "3qEVKA0YeGVU",
        "outputId": "39be25e0-1995-4c06-b1d6-baff5f9b78ef"
      },
      "execution_count": null,
      "outputs": [
        {
          "output_type": "stream",
          "name": "stdout",
          "text": [
            "[[309   1]\n",
            " [ 49   9]]\n",
            "Model Testing Accuracy = 0.8641304347826086\n"
          ]
        }
      ]
    },
    {
      "cell_type": "markdown",
      "source": [
        "### Obtaining the F1 Score"
      ],
      "metadata": {
        "id": "wZEE42UrgQv5"
      }
    },
    {
      "cell_type": "code",
      "source": [
        "from sklearn.metrics import f1_score\n",
        "score = f1_score(y_pred, Y_test)\n",
        "print(\"Random Forest F1 score: {:.2f}\".format(score))"
      ],
      "metadata": {
        "colab": {
          "base_uri": "https://localhost:8080/"
        },
        "id": "7ZhFVDfmZhK5",
        "outputId": "713cd20f-8d1c-411c-ef6c-2af5cbd40889"
      },
      "execution_count": null,
      "outputs": [
        {
          "output_type": "stream",
          "name": "stdout",
          "text": [
            "Random Forest F1 score: 0.26\n"
          ]
        }
      ]
    },
    {
      "cell_type": "markdown",
      "source": [
        "###  Showing the Classification Report to measure the quality of predictions "
      ],
      "metadata": {
        "id": "rLrAhDRugV1a"
      }
    },
    {
      "cell_type": "code",
      "source": [
        "from sklearn.metrics import classification_report\n",
        "print(classification_report(Y_test,y_pred))"
      ],
      "metadata": {
        "colab": {
          "base_uri": "https://localhost:8080/"
        },
        "id": "rsj0giXa_X-h",
        "outputId": "805ccdda-86d1-44a1-cd54-d189edf0ed27"
      },
      "execution_count": null,
      "outputs": [
        {
          "output_type": "stream",
          "name": "stdout",
          "text": [
            "              precision    recall  f1-score   support\n",
            "\n",
            "           0       0.86      1.00      0.93       310\n",
            "           1       0.90      0.16      0.26        58\n",
            "\n",
            "    accuracy                           0.86       368\n",
            "   macro avg       0.88      0.58      0.59       368\n",
            "weighted avg       0.87      0.86      0.82       368\n",
            "\n"
          ]
        }
      ]
    },
    {
      "cell_type": "markdown",
      "source": [
        "### Plotting the Confusion Matrix"
      ],
      "metadata": {
        "id": "MIAZpLQxhtjW"
      }
    },
    {
      "cell_type": "code",
      "source": [
        "disp = ConfusionMatrixDisplay(confusion_matrix = cm, display_labels = forest.classes_)\n",
        "fig, ax = plt.subplots(figsize=(7,7))\n",
        "plt.title(\"Confusion Matrix\")\n",
        "disp = disp.plot(ax=ax, cmap=plt.cm.YlOrRd)\n",
        "plt.show()"
      ],
      "metadata": {
        "colab": {
          "base_uri": "https://localhost:8080/",
          "height": 411
        },
        "id": "WdOa2qOeX75d",
        "outputId": "0317be95-ccca-4397-fb0a-04b01a4a02e4"
      },
      "execution_count": null,
      "outputs": [
        {
          "output_type": "display_data",
          "data": {
            "text/plain": [
              "<Figure size 504x504 with 2 Axes>"
            ],
            "image/png": "[encoded data removed]"
          },
          "metadata": {
            "needs_background": "light"
          }
        }
      ]
    },
    {
      "cell_type": "markdown",
      "source": [
        "## 2.) Logistic Regression"
      ],
      "metadata": {
        "id": "BOcGwAjkh3UG"
      }
    },
    {
      "cell_type": "code",
      "source": [
        "from sklearn.metrics import mean_absolute_error,accuracy_score\n",
        "from sklearn.linear_model import LogisticRegression\n",
        "reg = LogisticRegression(max_iter = 500,n_jobs=8)\n",
        "reg.fit(X_train, Y_train)\n"
      ],
      "metadata": {
        "colab": {
          "base_uri": "https://localhost:8080/"
        },
        "id": "U9XAvzjoRksw",
        "outputId": "48b104da-823a-4677-e385-27ae8ba11515"
      },
      "execution_count": null,
      "outputs": [
        {
          "output_type": "execute_result",
          "data": {
            "text/plain": [
              "LogisticRegression(max_iter=500, n_jobs=8)"
            ]
          },
          "metadata": {},
          "execution_count": 88
        }
      ]
    },
    {
      "cell_type": "markdown",
      "source": [
        "### Obtaining the accuracy for training data"
      ],
      "metadata": {
        "id": "JYrEPCoDiKTe"
      }
    },
    {
      "cell_type": "code",
      "source": [
        "reg.score(X_train, Y_train)"
      ],
      "metadata": {
        "colab": {
          "base_uri": "https://localhost:8080/"
        },
        "id": "9CcYGD7eTdyY",
        "outputId": "9578e70a-5520-42b1-f9e9-80b8237a6fca"
      },
      "execution_count": null,
      "outputs": [
        {
          "output_type": "execute_result",
          "data": {
            "text/plain": [
              "0.8711433756805808"
            ]
          },
          "metadata": {},
          "execution_count": 89
        }
      ]
    },
    {
      "cell_type": "markdown",
      "source": [
        "### Showing the Confusion Matrix and Accuracy Score for the model on the test data"
      ],
      "metadata": {
        "id": "jHYID3lWiTuJ"
      }
    },
    {
      "cell_type": "code",
      "source": [
        "from sklearn.metrics import confusion_matrix\n",
        "cm = confusion_matrix(Y_test, reg.predict(X_test))\n",
        "\n",
        "TN = cm[0][0]\n",
        "TP = cm[1][1]\n",
        "FN = cm[1][0]\n",
        "FP = cm[0][1]\n",
        "\n",
        "print(cm)\n",
        "print('Model Testing Accuracy = {}'.format((TP +TN) / (TP + TN + FN + FP)))"
      ],
      "metadata": {
        "colab": {
          "base_uri": "https://localhost:8080/"
        },
        "id": "VxjxspmXTttp",
        "outputId": "22b2ba6b-5346-4988-a4e4-065cfe0c8793"
      },
      "execution_count": null,
      "outputs": [
        {
          "output_type": "stream",
          "name": "stdout",
          "text": [
            "[[300  10]\n",
            " [ 37  21]]\n",
            "Model Testing Accuracy = 0.8722826086956522\n"
          ]
        }
      ]
    },
    {
      "cell_type": "markdown",
      "source": [
        "### Obtaining the F1 Score"
      ],
      "metadata": {
        "id": "V2ONkoXkiarT"
      }
    },
    {
      "cell_type": "code",
      "source": [
        "from sklearn.metrics import f1_score\n",
        "preds = np.round(reg.predict(X_test)).astype(int)\n",
        "score = f1_score(preds, Y_test)\n",
        "print(\"Logistic Regression F1 score: {:.2f}\".format(score))"
      ],
      "metadata": {
        "colab": {
          "base_uri": "https://localhost:8080/"
        },
        "id": "KvIATKoyZGlm",
        "outputId": "68756e0f-6a60-408f-9e76-aa2825e294c6"
      },
      "execution_count": null,
      "outputs": [
        {
          "output_type": "stream",
          "name": "stdout",
          "text": [
            "Logistic Regression F1 score: 0.47\n"
          ]
        }
      ]
    },
    {
      "cell_type": "markdown",
      "source": [
        "### Showing the Classification Report to measure the quality of predictions"
      ],
      "metadata": {
        "id": "MerC2AA_ifDv"
      }
    },
    {
      "cell_type": "code",
      "source": [
        "print(classification_report(Y_test,preds))"
      ],
      "metadata": {
        "colab": {
          "base_uri": "https://localhost:8080/"
        },
        "id": "bOaQ9DvtAQf2",
        "outputId": "88d16a22-2bca-4fc9-8319-02a746eefe5c"
      },
      "execution_count": null,
      "outputs": [
        {
          "output_type": "stream",
          "name": "stdout",
          "text": [
            "              precision    recall  f1-score   support\n",
            "\n",
            "           0       0.89      0.97      0.93       310\n",
            "           1       0.68      0.36      0.47        58\n",
            "\n",
            "    accuracy                           0.87       368\n",
            "   macro avg       0.78      0.66      0.70       368\n",
            "weighted avg       0.86      0.87      0.86       368\n",
            "\n"
          ]
        }
      ]
    },
    {
      "cell_type": "markdown",
      "source": [
        "### Plotting the Confusion Matrix"
      ],
      "metadata": {
        "id": "DpR1zgIkiluE"
      }
    },
    {
      "cell_type": "code",
      "source": [
        "from sklearn.metrics import ConfusionMatrixDisplay\n",
        "disp = ConfusionMatrixDisplay(confusion_matrix = cm, display_labels = reg.classes_)\n"
      ],
      "metadata": {
        "id": "gZ9bPu90UjIe"
      },
      "execution_count": null,
      "outputs": []
    },
    {
      "cell_type": "code",
      "source": [
        "fig, ax = plt.subplots(figsize=(7,7))\n",
        "plt.title(\"Confusion Matrix\")\n",
        "disp = disp.plot(ax=ax, cmap=plt.cm.YlOrRd)\n",
        "plt.show()"
      ],
      "metadata": {
        "colab": {
          "base_uri": "https://localhost:8080/",
          "height": 415
        },
        "id": "wH3A3NDeXjox",
        "outputId": "17b042f7-b078-4e3c-b0c5-286748c0ba5a"
      },
      "execution_count": null,
      "outputs": [
        {
          "output_type": "display_data",
          "data": {
            "text/plain": [
              "<Figure size 504x504 with 2 Axes>"
            ],
            "image/png": "[encoded data removed]"
          },
          "metadata": {
            "needs_background": "light"
          }
        }
      ]
    },
    {
      "cell_type": "markdown",
      "source": [
        "## 3.) Decision Tree"
      ],
      "metadata": {
        "id": "7SiNv5skiord"
      }
    },
    {
      "cell_type": "code",
      "source": [
        "from sklearn.model_selection import train_test_split, cross_val_score, GridSearchCV\n",
        "from sklearn.metrics import confusion_matrix, classification_report, roc_curve, auc, roc_auc_score"
      ],
      "metadata": {
        "id": "nqQ2xguL1xnU"
      },
      "execution_count": null,
      "outputs": []
    },
    {
      "cell_type": "code",
      "source": [
        "from sklearn import tree\n",
        "from sklearn.tree import DecisionTreeClassifier"
      ],
      "metadata": {
        "id": "UKQe0xBK1fR5"
      },
      "execution_count": null,
      "outputs": []
    },
    {
      "cell_type": "code",
      "source": [
        "params = {\"criterion\": (\"gini\", \"entropy\"), \n",
        "          \"splitter\": (\"best\", \"random\"), \n",
        "          \"max_depth\": np.arange(1, 20), \n",
        "          \"min_samples_split\": [2, 3, 4], \n",
        "          \"min_samples_leaf\": np.arange(1, 20)}\n",
        "tree1_grid = GridSearchCV(DecisionTreeClassifier(random_state=0), params, scoring=\"roc_auc\", n_jobs=-1, cv=5)\n",
        "tree1_grid.fit(X_train, Y_train)"
      ],
      "metadata": {
        "colab": {
          "base_uri": "https://localhost:8080/"
        },
        "id": "jRaSCmAo14aX",
        "outputId": "461b571f-aa62-43f3-d5c0-f27f65faabc2"
      },
      "execution_count": null,
      "outputs": [
        {
          "output_type": "execute_result",
          "data": {
            "text/plain": [
              "GridSearchCV(cv=5, estimator=DecisionTreeClassifier(random_state=0), n_jobs=-1,\n",
              "             param_grid={'criterion': ('gini', 'entropy'),\n",
              "                         'max_depth': array([ 1,  2,  3,  4,  5,  6,  7,  8,  9, 10, 11, 12, 13, 14, 15, 16, 17,\n",
              "       18, 19]),\n",
              "                         'min_samples_leaf': array([ 1,  2,  3,  4,  5,  6,  7,  8,  9, 10, 11, 12, 13, 14, 15, 16, 17,\n",
              "       18, 19]),\n",
              "                         'min_samples_split': [2, 3, 4],\n",
              "                         'splitter': ('best', 'random')},\n",
              "             scoring='roc_auc')"
            ]
          },
          "metadata": {},
          "execution_count": 97
        }
      ]
    },
    {
      "cell_type": "markdown",
      "source": [
        "### Obtaining the accuracy for training data"
      ],
      "metadata": {
        "id": "S8bvE-jeiy3G"
      }
    },
    {
      "cell_type": "code",
      "source": [
        "tree1_grid.score(X_train, Y_train)"
      ],
      "metadata": {
        "colab": {
          "base_uri": "https://localhost:8080/"
        },
        "id": "eJ6G7eZfr09e",
        "outputId": "f7477333-d61d-4b96-b9b4-e6912344d623"
      },
      "execution_count": null,
      "outputs": [
        {
          "output_type": "execute_result",
          "data": {
            "text/plain": [
              "0.828855384131173"
            ]
          },
          "metadata": {},
          "execution_count": 98
        }
      ]
    },
    {
      "cell_type": "markdown",
      "source": [
        "\n",
        "### Showing the Confusion Matrix and Accuracy Score for the model on the test data"
      ],
      "metadata": {
        "id": "lrCbdc-ai-Ox"
      }
    },
    {
      "cell_type": "code",
      "source": [
        "from sklearn.metrics import confusion_matrix\n",
        "cm = confusion_matrix(Y_test, tree1_grid.predict(X_test))\n",
        "\n",
        "TN = cm[0][0]\n",
        "TP = cm[1][1]\n",
        "FN = cm[1][0]\n",
        "FP = cm[0][1]\n",
        "\n",
        "print(cm)\n",
        "print('Model Testing Accuracy = {}'.format((TP +TN) / (TP + TN + FN + FP)))"
      ],
      "metadata": {
        "colab": {
          "base_uri": "https://localhost:8080/"
        },
        "id": "ggW5W5sA26K7",
        "outputId": "b3788940-04a8-436f-c886-5b6f790c4e27"
      },
      "execution_count": null,
      "outputs": [
        {
          "output_type": "stream",
          "name": "stdout",
          "text": [
            "[[300  10]\n",
            " [ 42  16]]\n",
            "Model Testing Accuracy = 0.8586956521739131\n"
          ]
        }
      ]
    },
    {
      "cell_type": "markdown",
      "source": [
        "### Obtaining the F1 Score"
      ],
      "metadata": {
        "id": "3hTSMet6jrIV"
      }
    },
    {
      "cell_type": "code",
      "source": [
        "from sklearn.metrics import f1_score\n",
        "Y_pred =np.round(tree1_grid.predict(X_test)).astype(int)\n",
        "score = f1_score(Y_pred, Y_test)\n",
        "print(\"Decision Tree F1 score: {:.2f}\".format(score))"
      ],
      "metadata": {
        "colab": {
          "base_uri": "https://localhost:8080/"
        },
        "id": "ZpajB1EZW_9a",
        "outputId": "5d970de5-fb13-45c0-d527-4972161f6b57"
      },
      "execution_count": null,
      "outputs": [
        {
          "output_type": "stream",
          "name": "stdout",
          "text": [
            "Decision Tree F1 score: 0.38\n"
          ]
        }
      ]
    },
    {
      "cell_type": "markdown",
      "source": [
        "### Showing the Classification Report to measure the quality of predictions"
      ],
      "metadata": {
        "id": "RtWU3Eq1r238"
      }
    },
    {
      "cell_type": "code",
      "source": [
        "print(classification_report(Y_test,Y_pred))"
      ],
      "metadata": {
        "colab": {
          "base_uri": "https://localhost:8080/"
        },
        "id": "eZalQA4iqvtu",
        "outputId": "64a24544-d96b-4129-a69f-2c11f672809e"
      },
      "execution_count": null,
      "outputs": [
        {
          "output_type": "stream",
          "name": "stdout",
          "text": [
            "              precision    recall  f1-score   support\n",
            "\n",
            "           0       0.88      0.97      0.92       310\n",
            "           1       0.62      0.28      0.38        58\n",
            "\n",
            "    accuracy                           0.86       368\n",
            "   macro avg       0.75      0.62      0.65       368\n",
            "weighted avg       0.84      0.86      0.84       368\n",
            "\n"
          ]
        }
      ]
    },
    {
      "cell_type": "markdown",
      "source": [
        "### Plotting the Confusion Matrix"
      ],
      "metadata": {
        "id": "rnuTIPLGjw8j"
      }
    },
    {
      "cell_type": "code",
      "source": [
        "from sklearn.metrics import ConfusionMatrixDisplay\n",
        "disp = ConfusionMatrixDisplay(confusion_matrix = cm, display_labels = tree1_grid.classes_)"
      ],
      "metadata": {
        "id": "PJ1FHlM53kHt"
      },
      "execution_count": null,
      "outputs": []
    },
    {
      "cell_type": "code",
      "source": [
        "fig, ax = plt.subplots(figsize=(7,7))\n",
        "plt.title(\"Confusion Matrix\")\n",
        "disp = disp.plot(ax=ax, cmap=plt.cm.YlOrRd)\n",
        "plt.show()"
      ],
      "metadata": {
        "colab": {
          "base_uri": "https://localhost:8080/",
          "height": 415
        },
        "id": "FqYJ-mBf3yRp",
        "outputId": "1d2fae04-0fc6-4ce0-ccd8-eaaebaec48ec"
      },
      "execution_count": null,
      "outputs": [
        {
          "output_type": "display_data",
          "data": {
            "text/plain": [
              "<Figure size 504x504 with 2 Axes>"
            ],
            "image/png": "[encoded data removed]"
          },
          "metadata": {
            "needs_background": "light"
          }
        }
      ]
    },
    {
      "cell_type": "markdown",
      "source": [
        "## Plotting a graph to study the Accuracy and F1 Score of all three models "
      ],
      "metadata": {
        "id": "bpBIETmgj3uo"
      }
    },
    {
      "cell_type": "code",
      "source": [
        "from pandas import DataFrame\n",
        "dic = {\"Accuracy\" : [86, 87, 85], \"F1 Score\" : [26 , 47 , 38]}\n",
        "df = DataFrame(dic, index = [\"Random Forest\" , \"Logistic Regression\" , \"Decision Tree\"] )\n",
        "df"
      ],
      "metadata": {
        "colab": {
          "base_uri": "https://localhost:8080/",
          "height": 143
        },
        "id": "6EXdHp8jiwfK",
        "outputId": "2818978d-19fe-438f-f318-ead1812428bd"
      },
      "execution_count": null,
      "outputs": [
        {
          "output_type": "execute_result",
          "data": {
            "text/plain": [
              "                     Accuracy  F1 Score\n",
              "Random Forest              86        26\n",
              "Logistic Regression        87        47\n",
              "Decision Tree              85        38"
            ],
            "text/html": [
              "\n",
              "  <div id=\"df-c947d512-afad-45a5-b497-c1208307e99a\">\n",
              "    <div class=\"colab-df-container\">\n",
              "      <div>\n",
              "<style scoped>\n",
              "    .dataframe tbody tr th:only-of-type {\n",
              "        vertical-align: middle;\n",
              "    }\n",
              "\n",
              "    .dataframe tbody tr th {\n",
              "        vertical-align: top;\n",
              "    }\n",
              "\n",
              "    .dataframe thead th {\n",
              "        text-align: right;\n",
              "    }\n",
              "</style>\n",
              "<table border=\"1\" class=\"dataframe\">\n",
              "  <thead>\n",
              "    <tr style=\"text-align: right;\">\n",
              "      <th></th>\n",
              "      <th>Accuracy</th>\n",
              "      <th>F1 Score</th>\n",
              "    </tr>\n",
              "  </thead>\n",
              "  <tbody>\n",
              "    <tr>\n",
              "      <th>Random Forest</th>\n",
              "      <td>86</td>\n",
              "      <td>26</td>\n",
              "    </tr>\n",
              "    <tr>\n",
              "      <th>Logistic Regression</th>\n",
              "      <td>87</td>\n",
              "      <td>47</td>\n",
              "    </tr>\n",
              "    <tr>\n",
              "      <th>Decision Tree</th>\n",
              "      <td>85</td>\n",
              "      <td>38</td>\n",
              "    </tr>\n",
              "  </tbody>\n",
              "</table>\n",
              "</div>\n",
              "      <button class=\"colab-df-convert\" onclick=\"convertToInteractive('df-c947d512-afad-45a5-b497-c1208307e99a')\"\n",
              "              title=\"Convert this dataframe to an interactive table.\"\n",
              "              style=\"display:none;\">\n",
              "        \n",
              "  <svg xmlns=\"http://www.w3.org/2000/svg\" height=\"24px\"viewBox=\"0 0 24 24\"\n",
              "       width=\"24px\">\n",
              "    <path d=\"M0 0h24v24H0V0z\" fill=\"none\"/>\n",
              "    <path d=\"M18.56 5.44l.94 2.06.94-2.06 2.06-.94-2.06-.94-.94-2.06-.94 2.06-2.06.94zm-11 1L8.5 8.5l.94-2.06 2.06-.94-2.06-.94L8.5 2.5l-.94 2.06-2.06.94zm10 10l.94 2.06.94-2.06 2.06-.94-2.06-.94-.94-2.06-.94 2.06-2.06.94z\"/><path d=\"M17.41 7.96l-1.37-1.37c-.4-.4-.92-.59-1.43-.59-.52 0-1.04.2-1.43.59L10.3 9.45l-7.72 7.72c-.78.78-.78 2.05 0 2.83L4 21.41c.39.39.9.59 1.41.59.51 0 1.02-.2 1.41-.59l7.78-7.78 2.81-2.81c.8-.78.8-2.07 0-2.86zM5.41 20L4 18.59l7.72-7.72 1.47 1.35L5.41 20z\"/>\n",
              "  </svg>\n",
              "      </button>\n",
              "      \n",
              "  <style>\n",
              "    .colab-df-container {\n",
              "      display:flex;\n",
              "      flex-wrap:wrap;\n",
              "      gap: 12px;\n",
              "    }\n",
              "\n",
              "    .colab-df-convert {\n",
              "      background-color: #E8F0FE;\n",
              "      border: none;\n",
              "      border-radius: 50%;\n",
              "      cursor: pointer;\n",
              "      display: none;\n",
              "      fill: #1967D2;\n",
              "      height: 32px;\n",
              "      padding: 0 0 0 0;\n",
              "      width: 32px;\n",
              "    }\n",
              "\n",
              "    .colab-df-convert:hover {\n",
              "      background-color: #E2EBFA;\n",
              "      box-shadow: 0px 1px 2px rgba(60, 64, 67, 0.3), 0px 1px 3px 1px rgba(60, 64, 67, 0.15);\n",
              "      fill: #174EA6;\n",
              "    }\n",
              "\n",
              "    [theme=dark] .colab-df-convert {\n",
              "      background-color: #3B4455;\n",
              "      fill: #D2E3FC;\n",
              "    }\n",
              "\n",
              "    [theme=dark] .colab-df-convert:hover {\n",
              "      background-color: #434B5C;\n",
              "      box-shadow: 0px 1px 3px 1px rgba(0, 0, 0, 0.15);\n",
              "      filter: drop-shadow(0px 1px 2px rgba(0, 0, 0, 0.3));\n",
              "      fill: #FFFFFF;\n",
              "    }\n",
              "  </style>\n",
              "\n",
              "      <script>\n",
              "        const buttonEl =\n",
              "          document.querySelector('#df-c947d512-afad-45a5-b497-c1208307e99a button.colab-df-convert');\n",
              "        buttonEl.style.display =\n",
              "          google.colab.kernel.accessAllowed ? 'block' : 'none';\n",
              "\n",
              "        async function convertToInteractive(key) {\n",
              "          const element = document.querySelector('#df-c947d512-afad-45a5-b497-c1208307e99a');\n",
              "          const dataTable =\n",
              "            await google.colab.kernel.invokeFunction('convertToInteractive',\n",
              "                                                     [key], {});\n",
              "          if (!dataTable) return;\n",
              "\n",
              "          const docLinkHtml = 'Like what you see? Visit the ' +\n",
              "            '<a target=\"_blank\" href=https://colab.research.google.com/notebooks/data_table.ipynb>data table notebook</a>'\n",
              "            + ' to learn more about interactive tables.';\n",
              "          element.innerHTML = '';\n",
              "          dataTable['output_type'] = 'display_data';\n",
              "          await google.colab.output.renderOutput(dataTable, element);\n",
              "          const docLink = document.createElement('div');\n",
              "          docLink.innerHTML = docLinkHtml;\n",
              "          element.appendChild(docLink);\n",
              "        }\n",
              "      </script>\n",
              "    </div>\n",
              "  </div>\n",
              "  "
            ]
          },
          "metadata": {},
          "execution_count": 104
        }
      ]
    },
    {
      "cell_type": "code",
      "source": [
        "df.plot.bar(color={\"Accuracy\": \"green\", \"F1 Score\": \"orange\"}, figsize=(24,6))"
      ],
      "metadata": {
        "colab": {
          "base_uri": "https://localhost:8080/",
          "height": 436
        },
        "id": "8jEjTQxHyBpG",
        "outputId": "499ed272-c318-4b08-83bf-e4eafe28d54c"
      },
      "execution_count": null,
      "outputs": [
        {
          "output_type": "execute_result",
          "data": {
            "text/plain": [
              "<matplotlib.axes._subplots.AxesSubplot at 0x7f48cf5ff890>"
            ]
          },
          "metadata": {},
          "execution_count": 105
        },
        {
          "output_type": "display_data",
          "data": {
            "text/plain": [
              "<Figure size 1728x432 with 1 Axes>"
            ],
            "image/png": "[encoded data removed]"
          },
          "metadata": {
            "needs_background": "light"
          }
        }
      ]
    },
    {
      "cell_type": "markdown",
      "source": [
        "## Choosing the Best Model"
      ],
      "metadata": {
        "id": "6FY8oJ1OuA7w"
      }
    },
    {
      "cell_type": "markdown",
      "source": [
        "### The table below lists accuracy statistics of all the three models. "
      ],
      "metadata": {
        "id": "2pdmoETuwPNq"
      }
    },
    {
      "cell_type": "code",
      "source": [
        "from pandas import DataFrame\n",
        "d = {\"Accuracy\" : [0.86,0.87,0.86], \"Precision\" : [0.90,0.68,0.62] , \"Recall\" : [0.16,0.36,0.28], \"F1 Score\" : [0.26,0.47,0.38]}\n",
        "stats = DataFrame(d, index = ['Random Forest', 'Logistic Regression', 'Decision Tree'])\n",
        "stats"
      ],
      "metadata": {
        "id": "NEIgzkBWtBR6",
        "colab": {
          "base_uri": "https://localhost:8080/",
          "height": 143
        },
        "outputId": "eb9dba0b-f883-45bc-8687-6928b39e9f61"
      },
      "execution_count": null,
      "outputs": [
        {
          "output_type": "execute_result",
          "data": {
            "text/plain": [
              "                     Accuracy  Precision  Recall  F1 Score\n",
              "Random Forest            0.86       0.90    0.16      0.26\n",
              "Logistic Regression      0.87       0.68    0.36      0.47\n",
              "Decision Tree            0.86       0.62    0.28      0.38"
            ],
            "text/html": [
              "\n",
              "  <div id=\"df-b5fc1d33-8d99-4496-99e8-35063f19a5ef\">\n",
              "    <div class=\"colab-df-container\">\n",
              "      <div>\n",
              "<style scoped>\n",
              "    .dataframe tbody tr th:only-of-type {\n",
              "        vertical-align: middle;\n",
              "    }\n",
              "\n",
              "    .dataframe tbody tr th {\n",
              "        vertical-align: top;\n",
              "    }\n",
              "\n",
              "    .dataframe thead th {\n",
              "        text-align: right;\n",
              "    }\n",
              "</style>\n",
              "<table border=\"1\" class=\"dataframe\">\n",
              "  <thead>\n",
              "    <tr style=\"text-align: right;\">\n",
              "      <th></th>\n",
              "      <th>Accuracy</th>\n",
              "      <th>Precision</th>\n",
              "      <th>Recall</th>\n",
              "      <th>F1 Score</th>\n",
              "    </tr>\n",
              "  </thead>\n",
              "  <tbody>\n",
              "    <tr>\n",
              "      <th>Random Forest</th>\n",
              "      <td>0.86</td>\n",
              "      <td>0.90</td>\n",
              "      <td>0.16</td>\n",
              "      <td>0.26</td>\n",
              "    </tr>\n",
              "    <tr>\n",
              "      <th>Logistic Regression</th>\n",
              "      <td>0.87</td>\n",
              "      <td>0.68</td>\n",
              "      <td>0.36</td>\n",
              "      <td>0.47</td>\n",
              "    </tr>\n",
              "    <tr>\n",
              "      <th>Decision Tree</th>\n",
              "      <td>0.86</td>\n",
              "      <td>0.62</td>\n",
              "      <td>0.28</td>\n",
              "      <td>0.38</td>\n",
              "    </tr>\n",
              "  </tbody>\n",
              "</table>\n",
              "</div>\n",
              "      <button class=\"colab-df-convert\" onclick=\"convertToInteractive('df-b5fc1d33-8d99-4496-99e8-35063f19a5ef')\"\n",
              "              title=\"Convert this dataframe to an interactive table.\"\n",
              "              style=\"display:none;\">\n",
              "        \n",
              "  <svg xmlns=\"http://www.w3.org/2000/svg\" height=\"24px\"viewBox=\"0 0 24 24\"\n",
              "       width=\"24px\">\n",
              "    <path d=\"M0 0h24v24H0V0z\" fill=\"none\"/>\n",
              "    <path d=\"M18.56 5.44l.94 2.06.94-2.06 2.06-.94-2.06-.94-.94-2.06-.94 2.06-2.06.94zm-11 1L8.5 8.5l.94-2.06 2.06-.94-2.06-.94L8.5 2.5l-.94 2.06-2.06.94zm10 10l.94 2.06.94-2.06 2.06-.94-2.06-.94-.94-2.06-.94 2.06-2.06.94z\"/><path d=\"M17.41 7.96l-1.37-1.37c-.4-.4-.92-.59-1.43-.59-.52 0-1.04.2-1.43.59L10.3 9.45l-7.72 7.72c-.78.78-.78 2.05 0 2.83L4 21.41c.39.39.9.59 1.41.59.51 0 1.02-.2 1.41-.59l7.78-7.78 2.81-2.81c.8-.78.8-2.07 0-2.86zM5.41 20L4 18.59l7.72-7.72 1.47 1.35L5.41 20z\"/>\n",
              "  </svg>\n",
              "      </button>\n",
              "      \n",
              "  <style>\n",
              "    .colab-df-container {\n",
              "      display:flex;\n",
              "      flex-wrap:wrap;\n",
              "      gap: 12px;\n",
              "    }\n",
              "\n",
              "    .colab-df-convert {\n",
              "      background-color: #E8F0FE;\n",
              "      border: none;\n",
              "      border-radius: 50%;\n",
              "      cursor: pointer;\n",
              "      display: none;\n",
              "      fill: #1967D2;\n",
              "      height: 32px;\n",
              "      padding: 0 0 0 0;\n",
              "      width: 32px;\n",
              "    }\n",
              "\n",
              "    .colab-df-convert:hover {\n",
              "      background-color: #E2EBFA;\n",
              "      box-shadow: 0px 1px 2px rgba(60, 64, 67, 0.3), 0px 1px 3px 1px rgba(60, 64, 67, 0.15);\n",
              "      fill: #174EA6;\n",
              "    }\n",
              "\n",
              "    [theme=dark] .colab-df-convert {\n",
              "      background-color: #3B4455;\n",
              "      fill: #D2E3FC;\n",
              "    }\n",
              "\n",
              "    [theme=dark] .colab-df-convert:hover {\n",
              "      background-color: #434B5C;\n",
              "      box-shadow: 0px 1px 3px 1px rgba(0, 0, 0, 0.15);\n",
              "      filter: drop-shadow(0px 1px 2px rgba(0, 0, 0, 0.3));\n",
              "      fill: #FFFFFF;\n",
              "    }\n",
              "  </style>\n",
              "\n",
              "      <script>\n",
              "        const buttonEl =\n",
              "          document.querySelector('#df-b5fc1d33-8d99-4496-99e8-35063f19a5ef button.colab-df-convert');\n",
              "        buttonEl.style.display =\n",
              "          google.colab.kernel.accessAllowed ? 'block' : 'none';\n",
              "\n",
              "        async function convertToInteractive(key) {\n",
              "          const element = document.querySelector('#df-b5fc1d33-8d99-4496-99e8-35063f19a5ef');\n",
              "          const dataTable =\n",
              "            await google.colab.kernel.invokeFunction('convertToInteractive',\n",
              "                                                     [key], {});\n",
              "          if (!dataTable) return;\n",
              "\n",
              "          const docLinkHtml = 'Like what you see? Visit the ' +\n",
              "            '<a target=\"_blank\" href=https://colab.research.google.com/notebooks/data_table.ipynb>data table notebook</a>'\n",
              "            + ' to learn more about interactive tables.';\n",
              "          element.innerHTML = '';\n",
              "          dataTable['output_type'] = 'display_data';\n",
              "          await google.colab.output.renderOutput(dataTable, element);\n",
              "          const docLink = document.createElement('div');\n",
              "          docLink.innerHTML = docLinkHtml;\n",
              "          element.appendChild(docLink);\n",
              "        }\n",
              "      </script>\n",
              "    </div>\n",
              "  </div>\n",
              "  "
            ]
          },
          "metadata": {},
          "execution_count": 106
        }
      ]
    },
    {
      "cell_type": "markdown",
      "source": [
        "### **Conclusions :**\n",
        "### From the above table the following conclusions are drawn --\n",
        "### *   Accuracy : Logistic Regression has achieved the best accuracy.\n",
        "### *   Precision : Random Forest is the best in precision followed by Logistic Regression and Decision Tree.\n",
        "### *   Recall : Logistic Regression is the best in recall. Decision Tree is second.\n",
        "### *   F1 Score : Logistic Regression has achieved the best f1 score.\n",
        "\n",
        "### Hence, it is concluded that **Logistic Regression** is the **best model** to be used for making Employee Attrition Predictions.\n",
        "\n",
        "\n",
        "---\n",
        "\n",
        "\n",
        "\n",
        "---\n",
        "\n",
        "\n",
        "\n",
        "---\n",
        "\n",
        "\n",
        "\n",
        "\n"
      ],
      "metadata": {
        "id": "4D49DhOwwoxd"
      }
    },
    {
      "cell_type": "code",
      "source": [],
      "metadata": {
        "id": "a0Lc3gXCHXkZ"
      },
      "execution_count": null,
      "outputs": []
    }
  ]
}